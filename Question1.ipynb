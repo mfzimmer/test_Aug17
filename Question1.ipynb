{
 "cells": [
  {
   "cell_type": "markdown",
   "metadata": {},
   "source": [
    "# Data"
   ]
  },
  {
   "cell_type": "code",
   "execution_count": 1,
   "metadata": {},
   "outputs": [],
   "source": [
    "import numpy as np\n",
    "#from scipy.stats import chi2_contingency\n",
    "import pandas as pd\n",
    "from sklearn.ensemble import RandomForestClassifier\n",
    "\n",
    "# My library\n",
    "import mzlib as mz\n"
   ]
  },
  {
   "cell_type": "code",
   "execution_count": 2,
   "metadata": {},
   "outputs": [],
   "source": [
    "URLname = \"\"\n",
    "Filename = \"\"\n"
   ]
  },
  {
   "cell_type": "code",
   "execution_count": 3,
   "metadata": {},
   "outputs": [],
   "source": [
    "#import requests\n",
    "#r = requests.get(url=URLname)\n",
    "#data = r.json()\n"
   ]
  },
  {
   "cell_type": "code",
   "execution_count": 4,
   "metadata": {},
   "outputs": [
    {
     "name": "stderr",
     "output_type": "stream",
     "text": [
      "/Users/mycomputer/anaconda3/lib/python3.6/site-packages/IPython/core/interactiveshell.py:2785: DtypeWarning: Columns (0,7) have mixed types. Specify dtype option on import or set low_memory=False.\n",
      "  interactivity=interactivity, compiler=compiler, result=result)\n"
     ]
    },
    {
     "name": "stdout",
     "output_type": "stream",
     "text": [
      "df.shape =  (8726014, 19)\n"
     ]
    },
    {
     "data": {
      "text/html": [
       "<div>\n",
       "<style scoped>\n",
       "    .dataframe tbody tr th:only-of-type {\n",
       "        vertical-align: middle;\n",
       "    }\n",
       "\n",
       "    .dataframe tbody tr th {\n",
       "        vertical-align: top;\n",
       "    }\n",
       "\n",
       "    .dataframe thead th {\n",
       "        text-align: right;\n",
       "    }\n",
       "</style>\n",
       "<table border=\"1\" class=\"dataframe\">\n",
       "  <thead>\n",
       "    <tr style=\"text-align: right;\">\n",
       "      <th></th>\n",
       "      <th>Ticket number</th>\n",
       "      <th>Issue Date</th>\n",
       "      <th>Issue time</th>\n",
       "      <th>Meter Id</th>\n",
       "      <th>Marked Time</th>\n",
       "      <th>RP State Plate</th>\n",
       "      <th>Plate Expiry Date</th>\n",
       "      <th>VIN</th>\n",
       "      <th>Make</th>\n",
       "      <th>Body Style</th>\n",
       "      <th>Color</th>\n",
       "      <th>Location</th>\n",
       "      <th>Route</th>\n",
       "      <th>Agency</th>\n",
       "      <th>Violation code</th>\n",
       "      <th>Violation Description</th>\n",
       "      <th>Fine amount</th>\n",
       "      <th>Latitude</th>\n",
       "      <th>Longitude</th>\n",
       "    </tr>\n",
       "  </thead>\n",
       "  <tbody>\n",
       "    <tr>\n",
       "      <th>0</th>\n",
       "      <td>1103341116</td>\n",
       "      <td>2015-12-21T00:00:00</td>\n",
       "      <td>1251.0</td>\n",
       "      <td>NaN</td>\n",
       "      <td>NaN</td>\n",
       "      <td>CA</td>\n",
       "      <td>200304.0</td>\n",
       "      <td>NaN</td>\n",
       "      <td>NaN</td>\n",
       "      <td>PA</td>\n",
       "      <td>GY</td>\n",
       "      <td>13147 WELBY WAY</td>\n",
       "      <td>01521</td>\n",
       "      <td>1.0</td>\n",
       "      <td>4000A1</td>\n",
       "      <td>NO EVIDENCE OF REG</td>\n",
       "      <td>50.0</td>\n",
       "      <td>99999.0</td>\n",
       "      <td>99999.0</td>\n",
       "    </tr>\n",
       "    <tr>\n",
       "      <th>1</th>\n",
       "      <td>1103700150</td>\n",
       "      <td>2015-12-21T00:00:00</td>\n",
       "      <td>1435.0</td>\n",
       "      <td>NaN</td>\n",
       "      <td>NaN</td>\n",
       "      <td>CA</td>\n",
       "      <td>201512.0</td>\n",
       "      <td>NaN</td>\n",
       "      <td>NaN</td>\n",
       "      <td>VN</td>\n",
       "      <td>WH</td>\n",
       "      <td>525 S MAIN ST</td>\n",
       "      <td>1C51</td>\n",
       "      <td>1.0</td>\n",
       "      <td>4000A1</td>\n",
       "      <td>NO EVIDENCE OF REG</td>\n",
       "      <td>50.0</td>\n",
       "      <td>99999.0</td>\n",
       "      <td>99999.0</td>\n",
       "    </tr>\n",
       "    <tr>\n",
       "      <th>2</th>\n",
       "      <td>1104803000</td>\n",
       "      <td>2015-12-21T00:00:00</td>\n",
       "      <td>2055.0</td>\n",
       "      <td>NaN</td>\n",
       "      <td>NaN</td>\n",
       "      <td>CA</td>\n",
       "      <td>201503.0</td>\n",
       "      <td>NaN</td>\n",
       "      <td>NaN</td>\n",
       "      <td>PA</td>\n",
       "      <td>BK</td>\n",
       "      <td>200 WORLD WAY</td>\n",
       "      <td>2R2</td>\n",
       "      <td>2.0</td>\n",
       "      <td>8939</td>\n",
       "      <td>WHITE CURB</td>\n",
       "      <td>58.0</td>\n",
       "      <td>6439997.9</td>\n",
       "      <td>1802686.4</td>\n",
       "    </tr>\n",
       "    <tr>\n",
       "      <th>3</th>\n",
       "      <td>1104820732</td>\n",
       "      <td>2015-12-26T00:00:00</td>\n",
       "      <td>1515.0</td>\n",
       "      <td>NaN</td>\n",
       "      <td>NaN</td>\n",
       "      <td>CA</td>\n",
       "      <td>NaN</td>\n",
       "      <td>NaN</td>\n",
       "      <td>NaN</td>\n",
       "      <td>PA</td>\n",
       "      <td>WH</td>\n",
       "      <td>100 WORLD WAY</td>\n",
       "      <td>2F11</td>\n",
       "      <td>2.0</td>\n",
       "      <td>000</td>\n",
       "      <td>17104h</td>\n",
       "      <td>NaN</td>\n",
       "      <td>6440041.1</td>\n",
       "      <td>1802686.2</td>\n",
       "    </tr>\n",
       "    <tr>\n",
       "      <th>4</th>\n",
       "      <td>1105461453</td>\n",
       "      <td>2015-09-15T00:00:00</td>\n",
       "      <td>115.0</td>\n",
       "      <td>NaN</td>\n",
       "      <td>NaN</td>\n",
       "      <td>CA</td>\n",
       "      <td>200316.0</td>\n",
       "      <td>NaN</td>\n",
       "      <td>CHEV</td>\n",
       "      <td>PA</td>\n",
       "      <td>BK</td>\n",
       "      <td>GEORGIA ST/OLYMPIC</td>\n",
       "      <td>1FB70</td>\n",
       "      <td>1.0</td>\n",
       "      <td>8069A</td>\n",
       "      <td>NO STOPPING/STANDING</td>\n",
       "      <td>93.0</td>\n",
       "      <td>99999.0</td>\n",
       "      <td>99999.0</td>\n",
       "    </tr>\n",
       "    <tr>\n",
       "      <th>5</th>\n",
       "      <td>1106226590</td>\n",
       "      <td>2015-09-15T00:00:00</td>\n",
       "      <td>19.0</td>\n",
       "      <td>NaN</td>\n",
       "      <td>NaN</td>\n",
       "      <td>CA</td>\n",
       "      <td>201507.0</td>\n",
       "      <td>NaN</td>\n",
       "      <td>NaN</td>\n",
       "      <td>VN</td>\n",
       "      <td>GY</td>\n",
       "      <td>SAN PEDRO S/O BOYD</td>\n",
       "      <td>1A35W</td>\n",
       "      <td>1.0</td>\n",
       "      <td>4000A1</td>\n",
       "      <td>NO EVIDENCE OF REG</td>\n",
       "      <td>50.0</td>\n",
       "      <td>99999.0</td>\n",
       "      <td>99999.0</td>\n",
       "    </tr>\n",
       "    <tr>\n",
       "      <th>6</th>\n",
       "      <td>1106500452</td>\n",
       "      <td>2015-12-17T00:00:00</td>\n",
       "      <td>1710.0</td>\n",
       "      <td>NaN</td>\n",
       "      <td>NaN</td>\n",
       "      <td>CA</td>\n",
       "      <td>201605.0</td>\n",
       "      <td>NaN</td>\n",
       "      <td>MAZD</td>\n",
       "      <td>PA</td>\n",
       "      <td>BL</td>\n",
       "      <td>SUNSET/ALVARADO</td>\n",
       "      <td>00217</td>\n",
       "      <td>1.0</td>\n",
       "      <td>8070</td>\n",
       "      <td>PARK IN GRID LOCK ZN</td>\n",
       "      <td>163.0</td>\n",
       "      <td>99999.0</td>\n",
       "      <td>99999.0</td>\n",
       "    </tr>\n",
       "    <tr>\n",
       "      <th>7</th>\n",
       "      <td>1106500463</td>\n",
       "      <td>2015-12-17T00:00:00</td>\n",
       "      <td>1710.0</td>\n",
       "      <td>NaN</td>\n",
       "      <td>NaN</td>\n",
       "      <td>CA</td>\n",
       "      <td>201602.0</td>\n",
       "      <td>NaN</td>\n",
       "      <td>NaN</td>\n",
       "      <td>PA</td>\n",
       "      <td>BK</td>\n",
       "      <td>SUNSET/ALVARADO</td>\n",
       "      <td>00217</td>\n",
       "      <td>1.0</td>\n",
       "      <td>8070</td>\n",
       "      <td>PARK IN GRID LOCK ZN</td>\n",
       "      <td>163.0</td>\n",
       "      <td>99999.0</td>\n",
       "      <td>99999.0</td>\n",
       "    </tr>\n",
       "    <tr>\n",
       "      <th>8</th>\n",
       "      <td>1106506402</td>\n",
       "      <td>2015-12-22T00:00:00</td>\n",
       "      <td>945.0</td>\n",
       "      <td>NaN</td>\n",
       "      <td>NaN</td>\n",
       "      <td>CA</td>\n",
       "      <td>201605.0</td>\n",
       "      <td>NaN</td>\n",
       "      <td>NaN</td>\n",
       "      <td>PA</td>\n",
       "      <td>BR</td>\n",
       "      <td>721 S WESTLAKE</td>\n",
       "      <td>2A75</td>\n",
       "      <td>1.0</td>\n",
       "      <td>8069AA</td>\n",
       "      <td>NO STOP/STAND AM</td>\n",
       "      <td>93.0</td>\n",
       "      <td>99999.0</td>\n",
       "      <td>99999.0</td>\n",
       "    </tr>\n",
       "    <tr>\n",
       "      <th>9</th>\n",
       "      <td>1106506413</td>\n",
       "      <td>2015-12-22T00:00:00</td>\n",
       "      <td>1100.0</td>\n",
       "      <td>NaN</td>\n",
       "      <td>NaN</td>\n",
       "      <td>CA</td>\n",
       "      <td>201701.0</td>\n",
       "      <td>NaN</td>\n",
       "      <td>NaN</td>\n",
       "      <td>PA</td>\n",
       "      <td>SI</td>\n",
       "      <td>1159 HUNTLEY DR</td>\n",
       "      <td>2A75</td>\n",
       "      <td>1.0</td>\n",
       "      <td>8069AA</td>\n",
       "      <td>NO STOP/STAND AM</td>\n",
       "      <td>93.0</td>\n",
       "      <td>99999.0</td>\n",
       "      <td>99999.0</td>\n",
       "    </tr>\n",
       "    <tr>\n",
       "      <th>10</th>\n",
       "      <td>1106506424</td>\n",
       "      <td>2015-12-22T00:00:00</td>\n",
       "      <td>1100.0</td>\n",
       "      <td>NaN</td>\n",
       "      <td>NaN</td>\n",
       "      <td>CA</td>\n",
       "      <td>201511.0</td>\n",
       "      <td>NaN</td>\n",
       "      <td>FORD</td>\n",
       "      <td>TR</td>\n",
       "      <td>WH</td>\n",
       "      <td>1159 HUNTLEY DR</td>\n",
       "      <td>2A75</td>\n",
       "      <td>1.0</td>\n",
       "      <td>8069AA</td>\n",
       "      <td>NO STOP/STAND AM</td>\n",
       "      <td>93.0</td>\n",
       "      <td>99999.0</td>\n",
       "      <td>99999.0</td>\n",
       "    </tr>\n",
       "    <tr>\n",
       "      <th>11</th>\n",
       "      <td>1106506435</td>\n",
       "      <td>2015-12-22T00:00:00</td>\n",
       "      <td>1105.0</td>\n",
       "      <td>NaN</td>\n",
       "      <td>NaN</td>\n",
       "      <td>CA</td>\n",
       "      <td>201701.0</td>\n",
       "      <td>NaN</td>\n",
       "      <td>CHRY</td>\n",
       "      <td>PA</td>\n",
       "      <td>GO</td>\n",
       "      <td>1159 HUNTLEY DR</td>\n",
       "      <td>2A75</td>\n",
       "      <td>1.0</td>\n",
       "      <td>8069AA</td>\n",
       "      <td>NO STOP/STAND AM</td>\n",
       "      <td>93.0</td>\n",
       "      <td>99999.0</td>\n",
       "      <td>99999.0</td>\n",
       "    </tr>\n",
       "    <tr>\n",
       "      <th>12</th>\n",
       "      <td>1106506446</td>\n",
       "      <td>2015-12-22T00:00:00</td>\n",
       "      <td>1110.0</td>\n",
       "      <td>NaN</td>\n",
       "      <td>NaN</td>\n",
       "      <td>CA</td>\n",
       "      <td>201511.0</td>\n",
       "      <td>NaN</td>\n",
       "      <td>NaN</td>\n",
       "      <td>PA</td>\n",
       "      <td>BK</td>\n",
       "      <td>1200 W MIRAMAR</td>\n",
       "      <td>2A75</td>\n",
       "      <td>1.0</td>\n",
       "      <td>4000A1</td>\n",
       "      <td>NO EVIDENCE OF REG</td>\n",
       "      <td>50.0</td>\n",
       "      <td>99999.0</td>\n",
       "      <td>99999.0</td>\n",
       "    </tr>\n",
       "    <tr>\n",
       "      <th>13</th>\n",
       "      <td>1106549754</td>\n",
       "      <td>2015-12-15T00:00:00</td>\n",
       "      <td>825.0</td>\n",
       "      <td>NaN</td>\n",
       "      <td>NaN</td>\n",
       "      <td>CA</td>\n",
       "      <td>201607.0</td>\n",
       "      <td>NaN</td>\n",
       "      <td>NaN</td>\n",
       "      <td>TR</td>\n",
       "      <td>BK</td>\n",
       "      <td>4TH/STATE</td>\n",
       "      <td>CM96</td>\n",
       "      <td>1.0</td>\n",
       "      <td>8069A</td>\n",
       "      <td>NO STOPPING/STANDING</td>\n",
       "      <td>93.0</td>\n",
       "      <td>99999.0</td>\n",
       "      <td>99999.0</td>\n",
       "    </tr>\n",
       "    <tr>\n",
       "      <th>14</th>\n",
       "      <td>1107179581</td>\n",
       "      <td>2015-12-27T00:00:00</td>\n",
       "      <td>1055.0</td>\n",
       "      <td>NaN</td>\n",
       "      <td>NaN</td>\n",
       "      <td>CA</td>\n",
       "      <td>201605.0</td>\n",
       "      <td>NaN</td>\n",
       "      <td>TOYO</td>\n",
       "      <td>PA</td>\n",
       "      <td>BK</td>\n",
       "      <td>3100 N HOLLYRIDGE DR</td>\n",
       "      <td>NaN</td>\n",
       "      <td>54.0</td>\n",
       "      <td>8058L</td>\n",
       "      <td>PREF PARKING</td>\n",
       "      <td>68.0</td>\n",
       "      <td>99999.0</td>\n",
       "      <td>99999.0</td>\n",
       "    </tr>\n",
       "    <tr>\n",
       "      <th>15</th>\n",
       "      <td>1107179592</td>\n",
       "      <td>2015-12-27T00:00:00</td>\n",
       "      <td>1200.0</td>\n",
       "      <td>NaN</td>\n",
       "      <td>NaN</td>\n",
       "      <td>CA</td>\n",
       "      <td>201602.0</td>\n",
       "      <td>NaN</td>\n",
       "      <td>NaN</td>\n",
       "      <td>PA</td>\n",
       "      <td>BK</td>\n",
       "      <td>3115 N BERENDO DR</td>\n",
       "      <td>NaN</td>\n",
       "      <td>54.0</td>\n",
       "      <td>8058L</td>\n",
       "      <td>PREF PARKING</td>\n",
       "      <td>68.0</td>\n",
       "      <td>99999.0</td>\n",
       "      <td>99999.0</td>\n",
       "    </tr>\n",
       "    <tr>\n",
       "      <th>16</th>\n",
       "      <td>1107179603</td>\n",
       "      <td>2015-12-27T00:00:00</td>\n",
       "      <td>1400.0</td>\n",
       "      <td>NaN</td>\n",
       "      <td>NaN</td>\n",
       "      <td>CA</td>\n",
       "      <td>201611.0</td>\n",
       "      <td>NaN</td>\n",
       "      <td>NaN</td>\n",
       "      <td>PA</td>\n",
       "      <td>WH</td>\n",
       "      <td>3100 N BEACHWOOD DR</td>\n",
       "      <td>NaN</td>\n",
       "      <td>54.0</td>\n",
       "      <td>8058L</td>\n",
       "      <td>PREF PARKING</td>\n",
       "      <td>68.0</td>\n",
       "      <td>99999.0</td>\n",
       "      <td>99999.0</td>\n",
       "    </tr>\n",
       "    <tr>\n",
       "      <th>17</th>\n",
       "      <td>1107539823</td>\n",
       "      <td>2015-09-16T00:00:00</td>\n",
       "      <td>2120.0</td>\n",
       "      <td>NaN</td>\n",
       "      <td>NaN</td>\n",
       "      <td>CA</td>\n",
       "      <td>201502.0</td>\n",
       "      <td>NaN</td>\n",
       "      <td>NaN</td>\n",
       "      <td>PA</td>\n",
       "      <td>NaN</td>\n",
       "      <td>BLAINE/11TH PL</td>\n",
       "      <td>1FB95</td>\n",
       "      <td>1.0</td>\n",
       "      <td>4000A1</td>\n",
       "      <td>NO EVIDENCE OF REG</td>\n",
       "      <td>50.0</td>\n",
       "      <td>99999.0</td>\n",
       "      <td>99999.0</td>\n",
       "    </tr>\n",
       "    <tr>\n",
       "      <th>18</th>\n",
       "      <td>1107539834</td>\n",
       "      <td>2015-09-16T00:00:00</td>\n",
       "      <td>1045.0</td>\n",
       "      <td>NaN</td>\n",
       "      <td>NaN</td>\n",
       "      <td>CA</td>\n",
       "      <td>NaN</td>\n",
       "      <td>NaN</td>\n",
       "      <td>CHEV</td>\n",
       "      <td>PA</td>\n",
       "      <td>BK</td>\n",
       "      <td>1246 S FIGUEROA ST</td>\n",
       "      <td>1L20</td>\n",
       "      <td>1.0</td>\n",
       "      <td>8069AP</td>\n",
       "      <td>NO STOP/STAND PM</td>\n",
       "      <td>93.0</td>\n",
       "      <td>99999.0</td>\n",
       "      <td>99999.0</td>\n",
       "    </tr>\n",
       "    <tr>\n",
       "      <th>19</th>\n",
       "      <td>1107780811</td>\n",
       "      <td>2015-12-22T00:00:00</td>\n",
       "      <td>1102.0</td>\n",
       "      <td>NaN</td>\n",
       "      <td>NaN</td>\n",
       "      <td>CA</td>\n",
       "      <td>201606.0</td>\n",
       "      <td>NaN</td>\n",
       "      <td>HOND</td>\n",
       "      <td>PA</td>\n",
       "      <td>BK</td>\n",
       "      <td>PLATA/RAMPART</td>\n",
       "      <td>2A1</td>\n",
       "      <td>1.0</td>\n",
       "      <td>8069B</td>\n",
       "      <td>NO PARKING</td>\n",
       "      <td>73.0</td>\n",
       "      <td>99999.0</td>\n",
       "      <td>99999.0</td>\n",
       "    </tr>\n",
       "  </tbody>\n",
       "</table>\n",
       "</div>"
      ],
      "text/plain": [
       "   Ticket number           Issue Date  Issue time Meter Id  Marked Time  \\\n",
       "0     1103341116  2015-12-21T00:00:00      1251.0      NaN          NaN   \n",
       "1     1103700150  2015-12-21T00:00:00      1435.0      NaN          NaN   \n",
       "2     1104803000  2015-12-21T00:00:00      2055.0      NaN          NaN   \n",
       "3     1104820732  2015-12-26T00:00:00      1515.0      NaN          NaN   \n",
       "4     1105461453  2015-09-15T00:00:00       115.0      NaN          NaN   \n",
       "5     1106226590  2015-09-15T00:00:00        19.0      NaN          NaN   \n",
       "6     1106500452  2015-12-17T00:00:00      1710.0      NaN          NaN   \n",
       "7     1106500463  2015-12-17T00:00:00      1710.0      NaN          NaN   \n",
       "8     1106506402  2015-12-22T00:00:00       945.0      NaN          NaN   \n",
       "9     1106506413  2015-12-22T00:00:00      1100.0      NaN          NaN   \n",
       "10    1106506424  2015-12-22T00:00:00      1100.0      NaN          NaN   \n",
       "11    1106506435  2015-12-22T00:00:00      1105.0      NaN          NaN   \n",
       "12    1106506446  2015-12-22T00:00:00      1110.0      NaN          NaN   \n",
       "13    1106549754  2015-12-15T00:00:00       825.0      NaN          NaN   \n",
       "14    1107179581  2015-12-27T00:00:00      1055.0      NaN          NaN   \n",
       "15    1107179592  2015-12-27T00:00:00      1200.0      NaN          NaN   \n",
       "16    1107179603  2015-12-27T00:00:00      1400.0      NaN          NaN   \n",
       "17    1107539823  2015-09-16T00:00:00      2120.0      NaN          NaN   \n",
       "18    1107539834  2015-09-16T00:00:00      1045.0      NaN          NaN   \n",
       "19    1107780811  2015-12-22T00:00:00      1102.0      NaN          NaN   \n",
       "\n",
       "   RP State Plate  Plate Expiry Date  VIN  Make Body Style Color  \\\n",
       "0              CA           200304.0  NaN   NaN         PA    GY   \n",
       "1              CA           201512.0  NaN   NaN         VN    WH   \n",
       "2              CA           201503.0  NaN   NaN         PA    BK   \n",
       "3              CA                NaN  NaN   NaN         PA    WH   \n",
       "4              CA           200316.0  NaN  CHEV         PA    BK   \n",
       "5              CA           201507.0  NaN   NaN         VN    GY   \n",
       "6              CA           201605.0  NaN  MAZD         PA    BL   \n",
       "7              CA           201602.0  NaN   NaN         PA    BK   \n",
       "8              CA           201605.0  NaN   NaN         PA    BR   \n",
       "9              CA           201701.0  NaN   NaN         PA    SI   \n",
       "10             CA           201511.0  NaN  FORD         TR    WH   \n",
       "11             CA           201701.0  NaN  CHRY         PA    GO   \n",
       "12             CA           201511.0  NaN   NaN         PA    BK   \n",
       "13             CA           201607.0  NaN   NaN         TR    BK   \n",
       "14             CA           201605.0  NaN  TOYO         PA    BK   \n",
       "15             CA           201602.0  NaN   NaN         PA    BK   \n",
       "16             CA           201611.0  NaN   NaN         PA    WH   \n",
       "17             CA           201502.0  NaN   NaN         PA   NaN   \n",
       "18             CA                NaN  NaN  CHEV         PA    BK   \n",
       "19             CA           201606.0  NaN  HOND         PA    BK   \n",
       "\n",
       "                Location  Route  Agency Violation code Violation Description  \\\n",
       "0        13147 WELBY WAY  01521     1.0         4000A1    NO EVIDENCE OF REG   \n",
       "1          525 S MAIN ST   1C51     1.0         4000A1    NO EVIDENCE OF REG   \n",
       "2          200 WORLD WAY    2R2     2.0           8939            WHITE CURB   \n",
       "3          100 WORLD WAY   2F11     2.0            000                17104h   \n",
       "4     GEORGIA ST/OLYMPIC  1FB70     1.0          8069A  NO STOPPING/STANDING   \n",
       "5     SAN PEDRO S/O BOYD  1A35W     1.0         4000A1    NO EVIDENCE OF REG   \n",
       "6        SUNSET/ALVARADO  00217     1.0           8070  PARK IN GRID LOCK ZN   \n",
       "7        SUNSET/ALVARADO  00217     1.0           8070  PARK IN GRID LOCK ZN   \n",
       "8         721 S WESTLAKE   2A75     1.0         8069AA      NO STOP/STAND AM   \n",
       "9        1159 HUNTLEY DR   2A75     1.0         8069AA      NO STOP/STAND AM   \n",
       "10       1159 HUNTLEY DR   2A75     1.0         8069AA      NO STOP/STAND AM   \n",
       "11       1159 HUNTLEY DR   2A75     1.0         8069AA      NO STOP/STAND AM   \n",
       "12        1200 W MIRAMAR   2A75     1.0         4000A1    NO EVIDENCE OF REG   \n",
       "13             4TH/STATE   CM96     1.0          8069A  NO STOPPING/STANDING   \n",
       "14  3100 N HOLLYRIDGE DR    NaN    54.0          8058L          PREF PARKING   \n",
       "15     3115 N BERENDO DR    NaN    54.0          8058L          PREF PARKING   \n",
       "16   3100 N BEACHWOOD DR    NaN    54.0          8058L          PREF PARKING   \n",
       "17        BLAINE/11TH PL  1FB95     1.0         4000A1    NO EVIDENCE OF REG   \n",
       "18    1246 S FIGUEROA ST   1L20     1.0         8069AP      NO STOP/STAND PM   \n",
       "19         PLATA/RAMPART    2A1     1.0          8069B            NO PARKING   \n",
       "\n",
       "    Fine amount   Latitude  Longitude  \n",
       "0          50.0    99999.0    99999.0  \n",
       "1          50.0    99999.0    99999.0  \n",
       "2          58.0  6439997.9  1802686.4  \n",
       "3           NaN  6440041.1  1802686.2  \n",
       "4          93.0    99999.0    99999.0  \n",
       "5          50.0    99999.0    99999.0  \n",
       "6         163.0    99999.0    99999.0  \n",
       "7         163.0    99999.0    99999.0  \n",
       "8          93.0    99999.0    99999.0  \n",
       "9          93.0    99999.0    99999.0  \n",
       "10         93.0    99999.0    99999.0  \n",
       "11         93.0    99999.0    99999.0  \n",
       "12         50.0    99999.0    99999.0  \n",
       "13         93.0    99999.0    99999.0  \n",
       "14         68.0    99999.0    99999.0  \n",
       "15         68.0    99999.0    99999.0  \n",
       "16         68.0    99999.0    99999.0  \n",
       "17         50.0    99999.0    99999.0  \n",
       "18         93.0    99999.0    99999.0  \n",
       "19         73.0    99999.0    99999.0  "
      ]
     },
     "execution_count": 4,
     "metadata": {},
     "output_type": "execute_result"
    }
   ],
   "source": [
    "df = pd.read_csv(Filename)\n",
    "print(\"df.shape = \", df.shape)\n",
    "df.head(20)\n"
   ]
  },
  {
   "cell_type": "markdown",
   "metadata": {},
   "source": [
    "# Number of top Makes"
   ]
  },
  {
   "cell_type": "code",
   "execution_count": 5,
   "metadata": {},
   "outputs": [],
   "source": [
    "Ntop = 25"
   ]
  },
  {
   "cell_type": "markdown",
   "metadata": {},
   "source": [
    "# Basic Information"
   ]
  },
  {
   "cell_type": "code",
   "execution_count": 6,
   "metadata": {},
   "outputs": [
    {
     "name": "stdout",
     "output_type": "stream",
     "text": [
      "<class 'pandas.core.frame.DataFrame'>\n",
      "RangeIndex: 8726014 entries, 0 to 8726013\n",
      "Data columns (total 19 columns):\n",
      "Ticket number            object\n",
      "Issue Date               object\n",
      "Issue time               float64\n",
      "Meter Id                 object\n",
      "Marked Time              float64\n",
      "RP State Plate           object\n",
      "Plate Expiry Date        float64\n",
      "VIN                      object\n",
      "Make                     object\n",
      "Body Style               object\n",
      "Color                    object\n",
      "Location                 object\n",
      "Route                    object\n",
      "Agency                   float64\n",
      "Violation code           object\n",
      "Violation Description    object\n",
      "Fine amount              float64\n",
      "Latitude                 float64\n",
      "Longitude                float64\n",
      "dtypes: float64(7), object(12)\n",
      "memory usage: 1.2+ GB\n"
     ]
    }
   ],
   "source": [
    "df.info()"
   ]
  },
  {
   "cell_type": "code",
   "execution_count": 7,
   "metadata": {},
   "outputs": [
    {
     "name": "stdout",
     "output_type": "stream",
     "text": [
      "Ticket number  --  8726014\n",
      "Issue Date  --  1844\n",
      "Issue time  --  1441\n",
      "Meter Id  --  37824\n",
      "Marked Time  --  1220\n",
      "RP State Plate  --  79\n",
      "Plate Expiry Date  --  874\n",
      "VIN  --  7746\n",
      "Make  --  1478\n",
      "Body Style  --  192\n",
      "Color  --  107\n",
      "Location  --  1506076\n",
      "Route  --  8480\n",
      "Agency  --  45\n",
      "Violation code  --  297\n",
      "Violation Description  --  796\n",
      "Fine amount  --  40\n",
      "Latitude  --  981329\n",
      "Longitude  --  1034915\n"
     ]
    }
   ],
   "source": [
    "cols = df.columns.tolist()\n",
    "\n",
    "for c in cols:\n",
    "    print(c, \" -- \", len(list(df[c].unique()) ) )\n",
    "    "
   ]
  },
  {
   "cell_type": "code",
   "execution_count": 8,
   "metadata": {},
   "outputs": [
    {
     "data": {
      "text/html": [
       "<div>\n",
       "<style scoped>\n",
       "    .dataframe tbody tr th:only-of-type {\n",
       "        vertical-align: middle;\n",
       "    }\n",
       "\n",
       "    .dataframe tbody tr th {\n",
       "        vertical-align: top;\n",
       "    }\n",
       "\n",
       "    .dataframe thead th {\n",
       "        text-align: right;\n",
       "    }\n",
       "</style>\n",
       "<table border=\"1\" class=\"dataframe\">\n",
       "  <thead>\n",
       "    <tr style=\"text-align: right;\">\n",
       "      <th></th>\n",
       "      <th>count</th>\n",
       "      <th>mean</th>\n",
       "      <th>std</th>\n",
       "      <th>min</th>\n",
       "      <th>25%</th>\n",
       "      <th>50%</th>\n",
       "      <th>75%</th>\n",
       "      <th>max</th>\n",
       "    </tr>\n",
       "  </thead>\n",
       "  <tbody>\n",
       "    <tr>\n",
       "      <th>Issue time</th>\n",
       "      <td>8723431.0</td>\n",
       "      <td>1.203930e+03</td>\n",
       "      <td>4.722413e+02</td>\n",
       "      <td>0.0</td>\n",
       "      <td>9.120000e+02</td>\n",
       "      <td>1.156000e+03</td>\n",
       "      <td>1511.0</td>\n",
       "      <td>2.359000e+03</td>\n",
       "    </tr>\n",
       "    <tr>\n",
       "      <th>Marked Time</th>\n",
       "      <td>290599.0</td>\n",
       "      <td>1.055399e+03</td>\n",
       "      <td>2.275962e+02</td>\n",
       "      <td>1.0</td>\n",
       "      <td>9.100000e+02</td>\n",
       "      <td>1.035000e+03</td>\n",
       "      <td>1200.0</td>\n",
       "      <td>2.400000e+03</td>\n",
       "    </tr>\n",
       "    <tr>\n",
       "      <th>Plate Expiry Date</th>\n",
       "      <td>7931187.0</td>\n",
       "      <td>1.867823e+05</td>\n",
       "      <td>5.276278e+04</td>\n",
       "      <td>1.0</td>\n",
       "      <td>2.016010e+05</td>\n",
       "      <td>2.017020e+05</td>\n",
       "      <td>201803.0</td>\n",
       "      <td>8.201080e+05</td>\n",
       "    </tr>\n",
       "    <tr>\n",
       "      <th>Agency</th>\n",
       "      <td>8725469.0</td>\n",
       "      <td>5.200932e+01</td>\n",
       "      <td>9.301675e+00</td>\n",
       "      <td>1.0</td>\n",
       "      <td>5.100000e+01</td>\n",
       "      <td>5.400000e+01</td>\n",
       "      <td>55.0</td>\n",
       "      <td>9.700000e+01</td>\n",
       "    </tr>\n",
       "    <tr>\n",
       "      <th>Fine amount</th>\n",
       "      <td>8719507.0</td>\n",
       "      <td>7.011293e+01</td>\n",
       "      <td>3.211512e+01</td>\n",
       "      <td>10.0</td>\n",
       "      <td>6.300000e+01</td>\n",
       "      <td>6.800000e+01</td>\n",
       "      <td>73.0</td>\n",
       "      <td>5.050000e+02</td>\n",
       "    </tr>\n",
       "    <tr>\n",
       "      <th>Latitude</th>\n",
       "      <td>8726011.0</td>\n",
       "      <td>5.501648e+06</td>\n",
       "      <td>3.004177e+06</td>\n",
       "      <td>99999.0</td>\n",
       "      <td>6.421512e+06</td>\n",
       "      <td>6.451540e+06</td>\n",
       "      <td>6475012.6</td>\n",
       "      <td>4.042322e+09</td>\n",
       "    </tr>\n",
       "    <tr>\n",
       "      <th>Longitude</th>\n",
       "      <td>8726011.0</td>\n",
       "      <td>1.586792e+06</td>\n",
       "      <td>2.065458e+06</td>\n",
       "      <td>99999.0</td>\n",
       "      <td>1.821558e+06</td>\n",
       "      <td>1.841987e+06</td>\n",
       "      <td>1858206.9</td>\n",
       "      <td>4.042322e+09</td>\n",
       "    </tr>\n",
       "  </tbody>\n",
       "</table>\n",
       "</div>"
      ],
      "text/plain": [
       "                       count          mean           std      min  \\\n",
       "Issue time         8723431.0  1.203930e+03  4.722413e+02      0.0   \n",
       "Marked Time         290599.0  1.055399e+03  2.275962e+02      1.0   \n",
       "Plate Expiry Date  7931187.0  1.867823e+05  5.276278e+04      1.0   \n",
       "Agency             8725469.0  5.200932e+01  9.301675e+00      1.0   \n",
       "Fine amount        8719507.0  7.011293e+01  3.211512e+01     10.0   \n",
       "Latitude           8726011.0  5.501648e+06  3.004177e+06  99999.0   \n",
       "Longitude          8726011.0  1.586792e+06  2.065458e+06  99999.0   \n",
       "\n",
       "                            25%           50%        75%           max  \n",
       "Issue time         9.120000e+02  1.156000e+03     1511.0  2.359000e+03  \n",
       "Marked Time        9.100000e+02  1.035000e+03     1200.0  2.400000e+03  \n",
       "Plate Expiry Date  2.016010e+05  2.017020e+05   201803.0  8.201080e+05  \n",
       "Agency             5.100000e+01  5.400000e+01       55.0  9.700000e+01  \n",
       "Fine amount        6.300000e+01  6.800000e+01       73.0  5.050000e+02  \n",
       "Latitude           6.421512e+06  6.451540e+06  6475012.6  4.042322e+09  \n",
       "Longitude          1.821558e+06  1.841987e+06  1858206.9  4.042322e+09  "
      ]
     },
     "execution_count": 8,
     "metadata": {},
     "output_type": "execute_result"
    }
   ],
   "source": [
    "df.describe().T"
   ]
  },
  {
   "cell_type": "code",
   "execution_count": null,
   "metadata": {},
   "outputs": [],
   "source": []
  },
  {
   "cell_type": "markdown",
   "metadata": {},
   "source": [
    "# Derived features -------------------------------"
   ]
  },
  {
   "cell_type": "markdown",
   "metadata": {},
   "source": [
    "## Make "
   ]
  },
  {
   "cell_type": "code",
   "execution_count": 9,
   "metadata": {},
   "outputs": [
    {
     "name": "stdout",
     "output_type": "stream",
     "text": [
      "There are 1477 unique Makes\n",
      "Only take top Ntop values\n"
     ]
    },
    {
     "data": {
      "text/plain": [
       "['TOYT',\n",
       " 'HOND',\n",
       " 'FORD',\n",
       " 'NISS',\n",
       " 'CHEV',\n",
       " 'BMW',\n",
       " 'MERZ',\n",
       " 'VOLK',\n",
       " 'HYUN',\n",
       " 'DODG',\n",
       " 'LEXS',\n",
       " 'KIA',\n",
       " 'JEEP',\n",
       " 'AUDI',\n",
       " 'MAZD',\n",
       " 'OTHR',\n",
       " 'GMC',\n",
       " 'CHRY',\n",
       " 'INFI',\n",
       " 'ACUR',\n",
       " 'SUBA',\n",
       " 'VOLV',\n",
       " 'TOYO',\n",
       " 'MITS',\n",
       " 'CADI']"
      ]
     },
     "execution_count": 9,
     "metadata": {},
     "output_type": "execute_result"
    }
   ],
   "source": [
    "# Want Ntop unique 'Make' values\n",
    "# note missing values aren't in top Ntop list\n",
    "x = df['Make'].value_counts()  #sorting is automatic with value_counts\n",
    "list_Make_ALL = list(x.index)\n",
    "list_Make = list_Make_ALL[:Ntop]\n",
    "print(\"There are {} unique Makes\".format(len(list_Make_ALL)))\n",
    "print(\"Only take top Ntop values\")\n",
    "list_Make\n"
   ]
  },
  {
   "cell_type": "markdown",
   "metadata": {},
   "source": [
    "### Predictor variable"
   ]
  },
  {
   "cell_type": "code",
   "execution_count": 10,
   "metadata": {},
   "outputs": [],
   "source": [
    "# If the 'Make' is in the Ntop list 'list_Make', then enter '1' in the new column 'Y', otherwise enter '0'.\n",
    "# The 'Y' column will be the training label\n",
    "df['Y'] = df['Make'].apply(lambda x: '1' if x in list_Make else '0' )\n"
   ]
  },
  {
   "cell_type": "code",
   "execution_count": 11,
   "metadata": {},
   "outputs": [
    {
     "data": {
      "text/html": [
       "<div>\n",
       "<style scoped>\n",
       "    .dataframe tbody tr th:only-of-type {\n",
       "        vertical-align: middle;\n",
       "    }\n",
       "\n",
       "    .dataframe tbody tr th {\n",
       "        vertical-align: top;\n",
       "    }\n",
       "\n",
       "    .dataframe thead th {\n",
       "        text-align: right;\n",
       "    }\n",
       "</style>\n",
       "<table border=\"1\" class=\"dataframe\">\n",
       "  <thead>\n",
       "    <tr style=\"text-align: right;\">\n",
       "      <th></th>\n",
       "      <th>Ticket number</th>\n",
       "      <th>Issue Date</th>\n",
       "      <th>Issue time</th>\n",
       "      <th>Meter Id</th>\n",
       "      <th>Marked Time</th>\n",
       "      <th>RP State Plate</th>\n",
       "      <th>Plate Expiry Date</th>\n",
       "      <th>VIN</th>\n",
       "      <th>Make</th>\n",
       "      <th>Body Style</th>\n",
       "      <th>Color</th>\n",
       "      <th>Location</th>\n",
       "      <th>Route</th>\n",
       "      <th>Agency</th>\n",
       "      <th>Violation code</th>\n",
       "      <th>Violation Description</th>\n",
       "      <th>Fine amount</th>\n",
       "      <th>Latitude</th>\n",
       "      <th>Longitude</th>\n",
       "      <th>Y</th>\n",
       "    </tr>\n",
       "  </thead>\n",
       "  <tbody>\n",
       "    <tr>\n",
       "      <th>0</th>\n",
       "      <td>1103341116</td>\n",
       "      <td>2015-12-21T00:00:00</td>\n",
       "      <td>1251.0</td>\n",
       "      <td>NaN</td>\n",
       "      <td>NaN</td>\n",
       "      <td>CA</td>\n",
       "      <td>200304.0</td>\n",
       "      <td>NaN</td>\n",
       "      <td>NaN</td>\n",
       "      <td>PA</td>\n",
       "      <td>GY</td>\n",
       "      <td>13147 WELBY WAY</td>\n",
       "      <td>01521</td>\n",
       "      <td>1.0</td>\n",
       "      <td>4000A1</td>\n",
       "      <td>NO EVIDENCE OF REG</td>\n",
       "      <td>50.0</td>\n",
       "      <td>99999.0</td>\n",
       "      <td>99999.0</td>\n",
       "      <td>0</td>\n",
       "    </tr>\n",
       "    <tr>\n",
       "      <th>1</th>\n",
       "      <td>1103700150</td>\n",
       "      <td>2015-12-21T00:00:00</td>\n",
       "      <td>1435.0</td>\n",
       "      <td>NaN</td>\n",
       "      <td>NaN</td>\n",
       "      <td>CA</td>\n",
       "      <td>201512.0</td>\n",
       "      <td>NaN</td>\n",
       "      <td>NaN</td>\n",
       "      <td>VN</td>\n",
       "      <td>WH</td>\n",
       "      <td>525 S MAIN ST</td>\n",
       "      <td>1C51</td>\n",
       "      <td>1.0</td>\n",
       "      <td>4000A1</td>\n",
       "      <td>NO EVIDENCE OF REG</td>\n",
       "      <td>50.0</td>\n",
       "      <td>99999.0</td>\n",
       "      <td>99999.0</td>\n",
       "      <td>0</td>\n",
       "    </tr>\n",
       "    <tr>\n",
       "      <th>2</th>\n",
       "      <td>1104803000</td>\n",
       "      <td>2015-12-21T00:00:00</td>\n",
       "      <td>2055.0</td>\n",
       "      <td>NaN</td>\n",
       "      <td>NaN</td>\n",
       "      <td>CA</td>\n",
       "      <td>201503.0</td>\n",
       "      <td>NaN</td>\n",
       "      <td>NaN</td>\n",
       "      <td>PA</td>\n",
       "      <td>BK</td>\n",
       "      <td>200 WORLD WAY</td>\n",
       "      <td>2R2</td>\n",
       "      <td>2.0</td>\n",
       "      <td>8939</td>\n",
       "      <td>WHITE CURB</td>\n",
       "      <td>58.0</td>\n",
       "      <td>6439997.9</td>\n",
       "      <td>1802686.4</td>\n",
       "      <td>0</td>\n",
       "    </tr>\n",
       "    <tr>\n",
       "      <th>3</th>\n",
       "      <td>1104820732</td>\n",
       "      <td>2015-12-26T00:00:00</td>\n",
       "      <td>1515.0</td>\n",
       "      <td>NaN</td>\n",
       "      <td>NaN</td>\n",
       "      <td>CA</td>\n",
       "      <td>NaN</td>\n",
       "      <td>NaN</td>\n",
       "      <td>NaN</td>\n",
       "      <td>PA</td>\n",
       "      <td>WH</td>\n",
       "      <td>100 WORLD WAY</td>\n",
       "      <td>2F11</td>\n",
       "      <td>2.0</td>\n",
       "      <td>000</td>\n",
       "      <td>17104h</td>\n",
       "      <td>NaN</td>\n",
       "      <td>6440041.1</td>\n",
       "      <td>1802686.2</td>\n",
       "      <td>0</td>\n",
       "    </tr>\n",
       "    <tr>\n",
       "      <th>4</th>\n",
       "      <td>1105461453</td>\n",
       "      <td>2015-09-15T00:00:00</td>\n",
       "      <td>115.0</td>\n",
       "      <td>NaN</td>\n",
       "      <td>NaN</td>\n",
       "      <td>CA</td>\n",
       "      <td>200316.0</td>\n",
       "      <td>NaN</td>\n",
       "      <td>CHEV</td>\n",
       "      <td>PA</td>\n",
       "      <td>BK</td>\n",
       "      <td>GEORGIA ST/OLYMPIC</td>\n",
       "      <td>1FB70</td>\n",
       "      <td>1.0</td>\n",
       "      <td>8069A</td>\n",
       "      <td>NO STOPPING/STANDING</td>\n",
       "      <td>93.0</td>\n",
       "      <td>99999.0</td>\n",
       "      <td>99999.0</td>\n",
       "      <td>1</td>\n",
       "    </tr>\n",
       "    <tr>\n",
       "      <th>5</th>\n",
       "      <td>1106226590</td>\n",
       "      <td>2015-09-15T00:00:00</td>\n",
       "      <td>19.0</td>\n",
       "      <td>NaN</td>\n",
       "      <td>NaN</td>\n",
       "      <td>CA</td>\n",
       "      <td>201507.0</td>\n",
       "      <td>NaN</td>\n",
       "      <td>NaN</td>\n",
       "      <td>VN</td>\n",
       "      <td>GY</td>\n",
       "      <td>SAN PEDRO S/O BOYD</td>\n",
       "      <td>1A35W</td>\n",
       "      <td>1.0</td>\n",
       "      <td>4000A1</td>\n",
       "      <td>NO EVIDENCE OF REG</td>\n",
       "      <td>50.0</td>\n",
       "      <td>99999.0</td>\n",
       "      <td>99999.0</td>\n",
       "      <td>0</td>\n",
       "    </tr>\n",
       "    <tr>\n",
       "      <th>6</th>\n",
       "      <td>1106500452</td>\n",
       "      <td>2015-12-17T00:00:00</td>\n",
       "      <td>1710.0</td>\n",
       "      <td>NaN</td>\n",
       "      <td>NaN</td>\n",
       "      <td>CA</td>\n",
       "      <td>201605.0</td>\n",
       "      <td>NaN</td>\n",
       "      <td>MAZD</td>\n",
       "      <td>PA</td>\n",
       "      <td>BL</td>\n",
       "      <td>SUNSET/ALVARADO</td>\n",
       "      <td>00217</td>\n",
       "      <td>1.0</td>\n",
       "      <td>8070</td>\n",
       "      <td>PARK IN GRID LOCK ZN</td>\n",
       "      <td>163.0</td>\n",
       "      <td>99999.0</td>\n",
       "      <td>99999.0</td>\n",
       "      <td>1</td>\n",
       "    </tr>\n",
       "    <tr>\n",
       "      <th>7</th>\n",
       "      <td>1106500463</td>\n",
       "      <td>2015-12-17T00:00:00</td>\n",
       "      <td>1710.0</td>\n",
       "      <td>NaN</td>\n",
       "      <td>NaN</td>\n",
       "      <td>CA</td>\n",
       "      <td>201602.0</td>\n",
       "      <td>NaN</td>\n",
       "      <td>NaN</td>\n",
       "      <td>PA</td>\n",
       "      <td>BK</td>\n",
       "      <td>SUNSET/ALVARADO</td>\n",
       "      <td>00217</td>\n",
       "      <td>1.0</td>\n",
       "      <td>8070</td>\n",
       "      <td>PARK IN GRID LOCK ZN</td>\n",
       "      <td>163.0</td>\n",
       "      <td>99999.0</td>\n",
       "      <td>99999.0</td>\n",
       "      <td>0</td>\n",
       "    </tr>\n",
       "    <tr>\n",
       "      <th>8</th>\n",
       "      <td>1106506402</td>\n",
       "      <td>2015-12-22T00:00:00</td>\n",
       "      <td>945.0</td>\n",
       "      <td>NaN</td>\n",
       "      <td>NaN</td>\n",
       "      <td>CA</td>\n",
       "      <td>201605.0</td>\n",
       "      <td>NaN</td>\n",
       "      <td>NaN</td>\n",
       "      <td>PA</td>\n",
       "      <td>BR</td>\n",
       "      <td>721 S WESTLAKE</td>\n",
       "      <td>2A75</td>\n",
       "      <td>1.0</td>\n",
       "      <td>8069AA</td>\n",
       "      <td>NO STOP/STAND AM</td>\n",
       "      <td>93.0</td>\n",
       "      <td>99999.0</td>\n",
       "      <td>99999.0</td>\n",
       "      <td>0</td>\n",
       "    </tr>\n",
       "    <tr>\n",
       "      <th>9</th>\n",
       "      <td>1106506413</td>\n",
       "      <td>2015-12-22T00:00:00</td>\n",
       "      <td>1100.0</td>\n",
       "      <td>NaN</td>\n",
       "      <td>NaN</td>\n",
       "      <td>CA</td>\n",
       "      <td>201701.0</td>\n",
       "      <td>NaN</td>\n",
       "      <td>NaN</td>\n",
       "      <td>PA</td>\n",
       "      <td>SI</td>\n",
       "      <td>1159 HUNTLEY DR</td>\n",
       "      <td>2A75</td>\n",
       "      <td>1.0</td>\n",
       "      <td>8069AA</td>\n",
       "      <td>NO STOP/STAND AM</td>\n",
       "      <td>93.0</td>\n",
       "      <td>99999.0</td>\n",
       "      <td>99999.0</td>\n",
       "      <td>0</td>\n",
       "    </tr>\n",
       "  </tbody>\n",
       "</table>\n",
       "</div>"
      ],
      "text/plain": [
       "  Ticket number           Issue Date  Issue time Meter Id  Marked Time  \\\n",
       "0    1103341116  2015-12-21T00:00:00      1251.0      NaN          NaN   \n",
       "1    1103700150  2015-12-21T00:00:00      1435.0      NaN          NaN   \n",
       "2    1104803000  2015-12-21T00:00:00      2055.0      NaN          NaN   \n",
       "3    1104820732  2015-12-26T00:00:00      1515.0      NaN          NaN   \n",
       "4    1105461453  2015-09-15T00:00:00       115.0      NaN          NaN   \n",
       "5    1106226590  2015-09-15T00:00:00        19.0      NaN          NaN   \n",
       "6    1106500452  2015-12-17T00:00:00      1710.0      NaN          NaN   \n",
       "7    1106500463  2015-12-17T00:00:00      1710.0      NaN          NaN   \n",
       "8    1106506402  2015-12-22T00:00:00       945.0      NaN          NaN   \n",
       "9    1106506413  2015-12-22T00:00:00      1100.0      NaN          NaN   \n",
       "\n",
       "  RP State Plate  Plate Expiry Date  VIN  Make Body Style Color  \\\n",
       "0             CA           200304.0  NaN   NaN         PA    GY   \n",
       "1             CA           201512.0  NaN   NaN         VN    WH   \n",
       "2             CA           201503.0  NaN   NaN         PA    BK   \n",
       "3             CA                NaN  NaN   NaN         PA    WH   \n",
       "4             CA           200316.0  NaN  CHEV         PA    BK   \n",
       "5             CA           201507.0  NaN   NaN         VN    GY   \n",
       "6             CA           201605.0  NaN  MAZD         PA    BL   \n",
       "7             CA           201602.0  NaN   NaN         PA    BK   \n",
       "8             CA           201605.0  NaN   NaN         PA    BR   \n",
       "9             CA           201701.0  NaN   NaN         PA    SI   \n",
       "\n",
       "             Location  Route  Agency Violation code Violation Description  \\\n",
       "0     13147 WELBY WAY  01521     1.0         4000A1    NO EVIDENCE OF REG   \n",
       "1       525 S MAIN ST   1C51     1.0         4000A1    NO EVIDENCE OF REG   \n",
       "2       200 WORLD WAY    2R2     2.0           8939            WHITE CURB   \n",
       "3       100 WORLD WAY   2F11     2.0            000                17104h   \n",
       "4  GEORGIA ST/OLYMPIC  1FB70     1.0          8069A  NO STOPPING/STANDING   \n",
       "5  SAN PEDRO S/O BOYD  1A35W     1.0         4000A1    NO EVIDENCE OF REG   \n",
       "6     SUNSET/ALVARADO  00217     1.0           8070  PARK IN GRID LOCK ZN   \n",
       "7     SUNSET/ALVARADO  00217     1.0           8070  PARK IN GRID LOCK ZN   \n",
       "8      721 S WESTLAKE   2A75     1.0         8069AA      NO STOP/STAND AM   \n",
       "9     1159 HUNTLEY DR   2A75     1.0         8069AA      NO STOP/STAND AM   \n",
       "\n",
       "   Fine amount   Latitude  Longitude  Y  \n",
       "0         50.0    99999.0    99999.0  0  \n",
       "1         50.0    99999.0    99999.0  0  \n",
       "2         58.0  6439997.9  1802686.4  0  \n",
       "3          NaN  6440041.1  1802686.2  0  \n",
       "4         93.0    99999.0    99999.0  1  \n",
       "5         50.0    99999.0    99999.0  0  \n",
       "6        163.0    99999.0    99999.0  1  \n",
       "7        163.0    99999.0    99999.0  0  \n",
       "8         93.0    99999.0    99999.0  0  \n",
       "9         93.0    99999.0    99999.0  0  "
      ]
     },
     "execution_count": 11,
     "metadata": {},
     "output_type": "execute_result"
    }
   ],
   "source": [
    "df.head(10)\n"
   ]
  },
  {
   "cell_type": "code",
   "execution_count": 12,
   "metadata": {},
   "outputs": [
    {
     "name": "stdout",
     "output_type": "stream",
     "text": [
      "<class 'pandas.core.frame.DataFrame'>\n",
      "RangeIndex: 8726014 entries, 0 to 8726013\n",
      "Data columns (total 20 columns):\n",
      "Ticket number            object\n",
      "Issue Date               object\n",
      "Issue time               float64\n",
      "Meter Id                 object\n",
      "Marked Time              float64\n",
      "RP State Plate           object\n",
      "Plate Expiry Date        float64\n",
      "VIN                      object\n",
      "Make                     object\n",
      "Body Style               object\n",
      "Color                    object\n",
      "Location                 object\n",
      "Route                    object\n",
      "Agency                   float64\n",
      "Violation code           object\n",
      "Violation Description    object\n",
      "Fine amount              float64\n",
      "Latitude                 float64\n",
      "Longitude                float64\n",
      "Y                        object\n",
      "dtypes: float64(7), object(13)\n",
      "memory usage: 1.3+ GB\n"
     ]
    }
   ],
   "source": [
    "df.info()"
   ]
  },
  {
   "cell_type": "markdown",
   "metadata": {},
   "source": [
    "## Temp view"
   ]
  },
  {
   "cell_type": "code",
   "execution_count": 13,
   "metadata": {},
   "outputs": [],
   "source": [
    "# Create an equal number of records for Y=0 and Y=1 from Make != null subset.\n",
    "df_temp = mz.get_balanced_set(df)\n",
    "\n",
    "# NB: changes made in df will not be reflected in df_temp\n"
   ]
  },
  {
   "cell_type": "markdown",
   "metadata": {},
   "source": [
    "# Agency ---------------------"
   ]
  },
  {
   "cell_type": "code",
   "execution_count": 14,
   "metadata": {
    "scrolled": true
   },
   "outputs": [
    {
     "data": {
      "text/plain": [
       "54.0    2150548\n",
       "51.0    1943578\n",
       "56.0    1846731\n",
       "53.0    1571032\n",
       "55.0     876274\n",
       "1.0      189383\n",
       "2.0       51700\n",
       "57.0      37202\n",
       "4.0       26652\n",
       "58.0       9596\n",
       "36.0       8028\n",
       "40.0       5644\n",
       "3.0        4965\n",
       "11.0       3285\n",
       "34.0        381\n",
       "41.0        171\n",
       "97.0         87\n",
       "5.0          61\n",
       "50.0         30\n",
       "59.0         30\n",
       "6.0          19\n",
       "12.0         13\n",
       "60.0         11\n",
       "77.0          7\n",
       "52.0          6\n",
       "9.0           5\n",
       "7.0           4\n",
       "15.0          4\n",
       "24.0          3\n",
       "35.0          3\n",
       "45.0          2\n",
       "8.0           2\n",
       "16.0          1\n",
       "30.0          1\n",
       "13.0          1\n",
       "42.0          1\n",
       "32.0          1\n",
       "10.0          1\n",
       "43.0          1\n",
       "71.0          1\n",
       "70.0          1\n",
       "68.0          1\n",
       "61.0          1\n",
       "38.0          1\n",
       "Name: Agency, dtype: int64"
      ]
     },
     "execution_count": 14,
     "metadata": {},
     "output_type": "execute_result"
    }
   ],
   "source": [
    "#df_temp['Agency'].value_counts()\n",
    "df['Agency'].value_counts()\n"
   ]
  },
  {
   "cell_type": "code",
   "execution_count": 15,
   "metadata": {},
   "outputs": [
    {
     "data": {
      "text/plain": [
       "array([ 1.,  2., 54., 36., 34., 11., 13., 51., 53., 55., 57., 56., 40.,\n",
       "        4., nan,  3., 58., 97., 52., 41., 77., 59., 43.,  6., 24.,  5.,\n",
       "       50., 12., 60., 16., 68.,  9., 45., 42., 35., 38.,  7., 15., 10.,\n",
       "       61., 71.,  8., 70., 32., 30.])"
      ]
     },
     "execution_count": 15,
     "metadata": {},
     "output_type": "execute_result"
    }
   ],
   "source": [
    "df['Agency'].unique()\n"
   ]
  },
  {
   "cell_type": "code",
   "execution_count": 16,
   "metadata": {},
   "outputs": [
    {
     "data": {
      "text/plain": [
       "545"
      ]
     },
     "execution_count": 16,
     "metadata": {},
     "output_type": "execute_result"
    }
   ],
   "source": [
    "df['Agency'].isna().sum()"
   ]
  },
  {
   "cell_type": "code",
   "execution_count": 17,
   "metadata": {},
   "outputs": [
    {
     "data": {
      "text/plain": [
       "array(['1', '2', '54', '36', '34', '11', '13', '51', '53', '55', '57',\n",
       "       '56', '40', '4', '-1', '3', '58', '97', '52', '41', '77', '59',\n",
       "       '43', '6', '24', '5', '50', '12', '60', '16', '68', '9', '45',\n",
       "       '42', '35', '38', '7', '15', '10', '61', '71', '8', '70', '32',\n",
       "       '30'], dtype=object)"
      ]
     },
     "execution_count": 17,
     "metadata": {},
     "output_type": "execute_result"
    }
   ],
   "source": [
    "# Retain entries in top N of Agency values; put the rest in an \"other\" category.\n",
    "df['Agency'].fillna(-1.0,inplace=True)\n",
    "df['Agency'] = df['Agency'].astype(int)\n",
    "df['Agency'] = df['Agency'].astype(str)\n",
    "\n",
    "df['Agency'].unique()\n",
    "\n",
    "#df['Agency_new'] = df['Agency'].apply(lambda x: x if x in list_Agency else 'other' )\n"
   ]
  },
  {
   "cell_type": "code",
   "execution_count": null,
   "metadata": {},
   "outputs": [],
   "source": []
  },
  {
   "cell_type": "markdown",
   "metadata": {},
   "source": [
    "### Get most common Agency values from an even split (Ntop or not-Ntop)"
   ]
  },
  {
   "cell_type": "code",
   "execution_count": 18,
   "metadata": {},
   "outputs": [
    {
     "data": {
      "text/plain": [
       "0    371330\n",
       "1    371330\n",
       "Name: Y, dtype: int64"
      ]
     },
     "execution_count": 18,
     "metadata": {},
     "output_type": "execute_result"
    }
   ],
   "source": [
    "df_temp['Y'].value_counts()\n"
   ]
  },
  {
   "cell_type": "code",
   "execution_count": 19,
   "metadata": {},
   "outputs": [],
   "source": [
    "# Note: not much difference between top entries of 'Agency', whether using df or df_temp.  Still, use df_temp.\n",
    "\n",
    "#df_temp['Agency'].value_counts()\n",
    "#df['Agency'].value_counts()\n"
   ]
  },
  {
   "cell_type": "code",
   "execution_count": 20,
   "metadata": {},
   "outputs": [],
   "source": [
    "#list_Agency_ = df['Agency'].value_counts().index.tolist()\n",
    "#list_Agency_ = list_Agency_[:10]\n",
    "#list_Agency_\n"
   ]
  },
  {
   "cell_type": "code",
   "execution_count": 21,
   "metadata": {},
   "outputs": [
    {
     "name": "stdout",
     "output_type": "stream",
     "text": [
      "[54.0, 56.0, 51.0, 53.0, 55.0, 1.0, 2.0, 57.0, 4.0, 3.0]\n",
      "[54, 56, 51, 53, 55, 1, 2, 57, 4, 3]\n",
      "['54', '56', '51', '53', '55', '1', '2', '57', '4', '3']\n"
     ]
    }
   ],
   "source": [
    "list_Agency = df_temp['Agency'].value_counts().index.tolist()\n",
    "list_Agency = list_Agency[:10]\n",
    "\n",
    "print(list_Agency)\n",
    "list_Agency = [int(c) for c in list_Agency]\n",
    "print(list_Agency)\n",
    "list_Agency = [str(c) for c in list_Agency]\n",
    "print(list_Agency)\n"
   ]
  },
  {
   "cell_type": "code",
   "execution_count": 22,
   "metadata": {},
   "outputs": [],
   "source": [
    "df['Agency_new'] = df['Agency'].apply(lambda x: x if x in list_Agency else 'other' )\n"
   ]
  },
  {
   "cell_type": "code",
   "execution_count": 23,
   "metadata": {},
   "outputs": [],
   "source": [
    "#df[ [\"Agency\",\"Agency_new\"] ].head(100)\n"
   ]
  },
  {
   "cell_type": "code",
   "execution_count": 24,
   "metadata": {},
   "outputs": [
    {
     "data": {
      "text/plain": [
       "54       2150548\n",
       "51       1943578\n",
       "56       1846731\n",
       "53       1571032\n",
       "55        876274\n",
       "1         189383\n",
       "2          51700\n",
       "57         37202\n",
       "other      27949\n",
       "4          26652\n",
       "3           4965\n",
       "Name: Agency_new, dtype: int64"
      ]
     },
     "execution_count": 24,
     "metadata": {},
     "output_type": "execute_result"
    }
   ],
   "source": [
    "df['Agency_new'].value_counts()\n"
   ]
  },
  {
   "cell_type": "markdown",
   "metadata": {},
   "source": [
    "# Color ----------------------------------------------------"
   ]
  },
  {
   "cell_type": "code",
   "execution_count": 25,
   "metadata": {},
   "outputs": [
    {
     "data": {
      "text/plain": [
       "array(['GY', 'WH', 'BK', 'BL', 'BR', 'SI', 'GO', nan, 'RE', 'MA', 'TA',\n",
       "       'BU', 'GR', 'YE', 'OR', 'WT', 'RD', 'SL', 'BN', 'OT', 'GN', 'MR',\n",
       "       'BG', 'PR', 'TN', 'UN', 'PK', 'TU', 'CO', 'BE', 'RU', 'PU', 'PL',\n",
       "       'CR', 'SN', 'PE', 'BZ', 'PI', 'ME', 'CH', 'TE', 'LI', 'MU', 'KH',\n",
       "       'GA', 'AQ', 'WI', 'OL', 'SA', 'KA', 'RS', 'CL', 'TP', 'PW', 'SU',\n",
       "       'CP', 'UT', 'SH', 'OG', 'UK', 'VI', 'BW', 'RV', 'YL', 'TW', 'GD',\n",
       "       'DA', 'W', 'BC', 'TL', 'MY', 'EF', 'WE', 'AU', 'WR', 'WA', 'AM',\n",
       "       'GL', 'RA', 'BI', 'BA', 'ES', 'LA', 'PP', 'GE', 'VA', 'LE', 'CA',\n",
       "       'SV', 'BH', 'AP', 'VO', 'VU', 'SM', 'TR', 'O', 'R', 'IN', 'MN',\n",
       "       'IV', 'MP', 'AD', 'MD', 'SO', 'CU', 'MC', 'MI'], dtype=object)"
      ]
     },
     "execution_count": 25,
     "metadata": {},
     "output_type": "execute_result"
    }
   ],
   "source": [
    "# If I could get the meaning of these codes, I could group some together.\n",
    "# Maybe look at their nearness in an HSB or RGB color plot.  Then look at distance/groupings (w/ k-means).\n",
    "df['Color'].unique()\n"
   ]
  },
  {
   "cell_type": "code",
   "execution_count": 26,
   "metadata": {},
   "outputs": [
    {
     "data": {
      "text/plain": [
       "4115"
      ]
     },
     "execution_count": 26,
     "metadata": {},
     "output_type": "execute_result"
    }
   ],
   "source": [
    "# This is a relatively small number, so just absorb it into \"other\" category, to be defined below.\n",
    "df['Color'].isna().sum()\n"
   ]
  },
  {
   "cell_type": "code",
   "execution_count": 27,
   "metadata": {},
   "outputs": [],
   "source": [
    "df['Color'] = df['Color'].astype(str)  #just being sure...\n"
   ]
  },
  {
   "cell_type": "code",
   "execution_count": 28,
   "metadata": {
    "scrolled": true
   },
   "outputs": [
    {
     "data": {
      "text/plain": [
       "BK    158804\n",
       "WT    158494\n",
       "GY    122191\n",
       "SL     76335\n",
       "BL     57783\n",
       "RD     39250\n",
       "BN     33208\n",
       "GN     23761\n",
       "WH     11814\n",
       "GO      9739\n",
       "MR      8886\n",
       "BG      6426\n",
       "TN      5970\n",
       "SI      5411\n",
       "OT      5089\n",
       "YE      4458\n",
       "OR      3139\n",
       "RE      2979\n",
       "GR      1940\n",
       "PR      1450\n",
       "TA      1428\n",
       "BR       834\n",
       "UN       698\n",
       "MA       408\n",
       "CO       398\n",
       "TU       366\n",
       "BE       289\n",
       "BU       270\n",
       "PK       184\n",
       "CR        96\n",
       "PU        90\n",
       "CH        21\n",
       "BZ        20\n",
       "PI        17\n",
       "RU        14\n",
       "TE        10\n",
       "YL         5\n",
       "MU         5\n",
       "GL         4\n",
       "PE         4\n",
       "PL         3\n",
       "RV         3\n",
       "BI         2\n",
       "CL         2\n",
       "W          2\n",
       "WI         2\n",
       "GD         2\n",
       "TL         1\n",
       "LA         1\n",
       "SA         1\n",
       "PP         1\n",
       "DA         1\n",
       "MI         1\n",
       "CU         1\n",
       "TP         1\n",
       "BA         1\n",
       "ME         1\n",
       "GA         1\n",
       "VU         1\n",
       "VA         1\n",
       "Name: Color, dtype: int64"
      ]
     },
     "execution_count": 28,
     "metadata": {},
     "output_type": "execute_result"
    }
   ],
   "source": [
    "#df['Color'].value_counts()\n",
    "df_temp['Color'].value_counts()\n"
   ]
  },
  {
   "cell_type": "code",
   "execution_count": 29,
   "metadata": {
    "scrolled": true
   },
   "outputs": [
    {
     "data": {
      "text/plain": [
       "['BK',\n",
       " 'WT',\n",
       " 'GY',\n",
       " 'SL',\n",
       " 'BL',\n",
       " 'RD',\n",
       " 'BN',\n",
       " 'GN',\n",
       " 'WH',\n",
       " 'GO',\n",
       " 'MR',\n",
       " 'BG',\n",
       " 'TN',\n",
       " 'SI',\n",
       " 'OT']"
      ]
     },
     "execution_count": 29,
     "metadata": {},
     "output_type": "execute_result"
    }
   ],
   "source": [
    "list_Color = df_temp['Color'].value_counts().index.tolist()\n",
    "list_Color = list_Color[:15]\n",
    "list_Color\n"
   ]
  },
  {
   "cell_type": "code",
   "execution_count": 30,
   "metadata": {},
   "outputs": [],
   "source": [
    "df['Color_new'] = df['Color'].apply(lambda x: x if x in list_Color else 'other' )\n"
   ]
  },
  {
   "cell_type": "code",
   "execution_count": 31,
   "metadata": {},
   "outputs": [
    {
     "data": {
      "text/plain": [
       "BK       1879909\n",
       "WT       1809932\n",
       "GY       1691850\n",
       "SL       1092754\n",
       "BL        678777\n",
       "RD        432673\n",
       "GN        250291\n",
       "BN        172073\n",
       "other     168691\n",
       "GO        114601\n",
       "MR        104882\n",
       "WH         99770\n",
       "TN         64126\n",
       "SI         55489\n",
       "OT         55224\n",
       "BG         54972\n",
       "Name: Color_new, dtype: int64"
      ]
     },
     "execution_count": 31,
     "metadata": {},
     "output_type": "execute_result"
    }
   ],
   "source": [
    "df['Color_new'].value_counts()\n"
   ]
  },
  {
   "cell_type": "markdown",
   "metadata": {},
   "source": [
    "# RP State Plate --------------------------"
   ]
  },
  {
   "cell_type": "code",
   "execution_count": 32,
   "metadata": {},
   "outputs": [
    {
     "data": {
      "text/plain": [
       "array(['CA', 'FL', 'NY', 'OR', 'WA', 'NJ', 'CO', 'AR', 'MA', 'TX', 'AZ',\n",
       "       'IN', 'MO', 'OK', 'NV', 'ND', 'OH', 'KS', 'NC', 'TN', 'PA', 'IL',\n",
       "       'MN', 'UT', 'VT', 'WY', 'CT', 'MI', 'GA', 'MX', 'AB', 'IA', 'MD',\n",
       "       'SC', 'DE', 'ID', 'NM', 'LA', 'MS', 'ME', 'SD', 'WI', 'NE', 'MT',\n",
       "       'AL', 'SA', 'ON', 'VA', 'KY', 'HI', 'XX', 'BC', 'NH', 'QU', 'DC',\n",
       "       'VI', 'US', 'AK', 'WV', 'CZ', 'RI', 'NB', 'CN', 'FN', 'DD', nan,\n",
       "       'MB', 'PE', 'NS', 'PR', 'TT', 'AS', 'YU', 'GU', 'NF', 'NW', '|',\n",
       "       'ML', 'VN'], dtype=object)"
      ]
     },
     "execution_count": 32,
     "metadata": {},
     "output_type": "execute_result"
    }
   ],
   "source": [
    "df['RP State Plate'].unique()\n"
   ]
  },
  {
   "cell_type": "code",
   "execution_count": 33,
   "metadata": {},
   "outputs": [],
   "source": [
    "df['RP State Plate'] = df['RP State Plate'].astype(str)  #just being sure...\n"
   ]
  },
  {
   "cell_type": "code",
   "execution_count": 34,
   "metadata": {
    "scrolled": true
   },
   "outputs": [
    {
     "data": {
      "text/plain": [
       "CA     8127986\n",
       "AZ       77649\n",
       "TX       55337\n",
       "NV       51944\n",
       "FL       37924\n",
       "WA       34585\n",
       "IL       24995\n",
       "OR       24291\n",
       "CO       22167\n",
       "NY       16261\n",
       "PA       12777\n",
       "UT       12447\n",
       "MI       12231\n",
       "OH       11966\n",
       "NJ       11648\n",
       "GA       11624\n",
       "IN       11270\n",
       "TN       11222\n",
       "VA       10463\n",
       "MA        9405\n",
       "MO        9029\n",
       "MD        8904\n",
       "OK        8751\n",
       "NC        8590\n",
       "MN        8411\n",
       "NM        8306\n",
       "MX        7402\n",
       "LA        6445\n",
       "WI        5869\n",
       "CT        5200\n",
       "        ...   \n",
       "DC        1261\n",
       "AK        1156\n",
       "SD        1133\n",
       "DE         971\n",
       "ND         923\n",
       "VT         814\n",
       "nan        765\n",
       "QU         750\n",
       "WV         698\n",
       "DD         478\n",
       "US         397\n",
       "FN         361\n",
       "NB         170\n",
       "CN         165\n",
       "MB         152\n",
       "SA         151\n",
       "XX         127\n",
       "NS          66\n",
       "CZ          37\n",
       "VI          34\n",
       "GU          26\n",
       "PR          19\n",
       "PE          19\n",
       "NW          18\n",
       "TT          18\n",
       "AS          16\n",
       "NF          13\n",
       "YU           8\n",
       "|            2\n",
       "ML           1\n",
       "Name: RP State Plate, Length: 79, dtype: int64"
      ]
     },
     "execution_count": 34,
     "metadata": {},
     "output_type": "execute_result"
    }
   ],
   "source": [
    "df['RP State Plate'].value_counts()\n",
    "    "
   ]
  },
  {
   "cell_type": "code",
   "execution_count": 35,
   "metadata": {},
   "outputs": [],
   "source": [
    "# An unusual bump on CA.  Finally occurred to me this is California data.  Other plates are out-of-state.\n"
   ]
  },
  {
   "cell_type": "markdown",
   "metadata": {},
   "source": [
    "# Violation code --------------------------"
   ]
  },
  {
   "cell_type": "code",
   "execution_count": 36,
   "metadata": {
    "scrolled": true
   },
   "outputs": [
    {
     "data": {
      "text/plain": [
       "array(['4000A1', '8939', '000', '8069A', '8070', '8069AA', '8058L',\n",
       "       '8069AP', '8069B', '5200A', '099', '8056E4', '8813B', '225078A',\n",
       "       '8603', '8069BS', '6344K2', '018', '5204A', '80714', '002', '8940',\n",
       "       '007', '030', '89391C', '225078C2', '8936', '013', '098', '010',\n",
       "       '8061', '011', '5204A-', '22502A', '80.70', '80.69AP+', '22511.57',\n",
       "       '22507.8A', '80.73.2', '5200', '80.69AA+', '22500E', '22514',\n",
       "       '80.61', '80.69.2', '80.56E4+', '80.58L', '88.13B+', '80.56E1',\n",
       "       '88.03A', '22500I-', '22500H', '88.63B+', '80.69B', '80.69BS',\n",
       "       '80.56E2', '80.69C', '21211B', '22500F', '80.71.4', '80.69A+',\n",
       "       '86.06', '80.54H1', '80.71.3', '80.49+', '80.56E3', '22502E',\n",
       "       '22500A', '80.66.1D', '22507.8C', '22500C', '86.03', '80.58.1',\n",
       "       '22500B', '88.64A', '22500.1+', '88.53', '80.69.1A', '22500L-',\n",
       "       '022', '80692', '014', '80732', '024', '225001', '569', '8073',\n",
       "       '8056E2', '8056E1', '22522-', '22507.8B', '22500J', '80.69.4',\n",
       "       '8055A1', '8049', '6344K7', '019', '6344K8', '8606', '570', '571',\n",
       "       '225078C1', '22500L', '5200B', '22523A-', '22511.56', '8709K',\n",
       "       '006', '80713', '553', '80661D', '80691A', '2251156B', '89355C',\n",
       "       '22500E#', '8056E3', '8069C', '22500D', '572521E', '4462B',\n",
       "       '8051A', '8803A', '225078B', '032', '89355B', '8709E', '017',\n",
       "       '80692*', '80692**', '80694**', '22507A', '80.74', '8943', '8501',\n",
       "       '80.73B2.', '8813A', '21113A+', '8938', '21113', '8056W', '80.69D',\n",
       "       '555', '80.72', '22526', '80.69.1C', '22515', '8056E4#', '001',\n",
       "       '80.75.1', '8053', '008', '556', '22500F#', '8803', '80713*',\n",
       "       '80714#', '031', '80.72.5', '89391B', '8066D', '6344B14', '045',\n",
       "       '8709H', '8863B', '80751', '80731', '80694', '80694*', '22500K',\n",
       "       '80691', '557', '225118', '22511', '8061#', '8069C#', '8069A#',\n",
       "       '558', '8051', '80691C', '80362', '85.01', '554', '8754', '009',\n",
       "       '87.55', '87.54', '8946', '17104H', '17104C', '8709B', '039',\n",
       "       '22951', '5202', '22500G', '5201', '559', '22658', '8709A',\n",
       "       '22523B-', '22505B', '80725', '8935', '26710', '8702', '6344B16',\n",
       "       '8940A', '41525', '572521D', '8069BS#', '8940B', '22510', '8942',\n",
       "       '8073B2A3', '89391A', '87.53', '025', '22514#', '8753', '5000A',\n",
       "       '22500H#', '8703', '8709D', '8056Y', '8853', '80713**', '8069D',\n",
       "       '8069B#', '225078C', '015', '22513', '80.73.1+', '26709A', '21210',\n",
       "       '89355A', '22502A#', '027', '8073F', '8864A', '8711', '22526A',\n",
       "       '22504A', '8074', '8864B', '22526C', '572521A', '029', '012',\n",
       "       '8813B#', '8704', '27465B', '8944C', '8056W#', '016', '8055A2',\n",
       "       '80691C*', '22507.8A-', '22507.8C2', '22507.8B-', '22511.57B',\n",
       "       '047', '22511.56B', '22511.57C', '27155', '22511.57A', '22507.8C1',\n",
       "       '225111A', '80.53', '6344C', '21113C', '573', '575', '4454A',\n",
       "       '80691D', '28071', '1564340', '26707', '80561', '22521',\n",
       "       '80.73B2.F', '8073B2F', '8025B', '80691C**', '8072', '8055A3',\n",
       "       '576', '22511.1B', '1564250', '1564280', '8863A', '80.54',\n",
       "       '1564230', '8054H1', '578', '8073C', '005', '225001D', '8049#'],\n",
       "      dtype=object)"
      ]
     },
     "execution_count": 36,
     "metadata": {},
     "output_type": "execute_result"
    }
   ],
   "source": [
    "df['Violation code'].unique()"
   ]
  },
  {
   "cell_type": "code",
   "execution_count": 37,
   "metadata": {},
   "outputs": [],
   "source": [
    "df['Violation code'] = df['Violation code'].astype(str)  #just being sure..."
   ]
  },
  {
   "cell_type": "code",
   "execution_count": 38,
   "metadata": {},
   "outputs": [],
   "source": [
    "#df['Violation code2'] = df['Violation code'].str.replace('[^\\w\\s]','')\n"
   ]
  },
  {
   "cell_type": "code",
   "execution_count": 39,
   "metadata": {},
   "outputs": [
    {
     "data": {
      "text/plain": [
       "0"
      ]
     },
     "execution_count": 39,
     "metadata": {},
     "output_type": "execute_result"
    }
   ],
   "source": [
    "df['Violation code'].isna().sum()"
   ]
  },
  {
   "cell_type": "code",
   "execution_count": 40,
   "metadata": {
    "scrolled": true
   },
   "outputs": [
    {
     "data": {
      "text/plain": [
       "80.69BS     2439494\n",
       "88.13B+     1524589\n",
       "80.56E4+     606361\n",
       "80.58L       599200\n",
       "5204A-       535798\n",
       "80.69B       370800\n",
       "80.69C       290968\n",
       "5200         239502\n",
       "80.56E1      188972\n",
       "80.69AP+     157259\n",
       "80.61        122059\n",
       "22500E       108706\n",
       "80.69A+       96424\n",
       "80.70         93373\n",
       "8069BS        90800\n",
       "80.56E2       90164\n",
       "80.69AA+      89075\n",
       "4000A1        86887\n",
       "22500F        79413\n",
       "22502A        76341\n",
       "80.73.2       74313\n",
       "22514         68155\n",
       "22500H        57562\n",
       "88.03A        53880\n",
       "88.63B+       45558\n",
       "8056E4        39810\n",
       "80.69.2       37957\n",
       "5204A         26110\n",
       "8069B         19304\n",
       "8813B         17986\n",
       "             ...   \n",
       "22510             2\n",
       "572521A           2\n",
       "22511             2\n",
       "005               1\n",
       "8025B             1\n",
       "1564280           1\n",
       "8049#             1\n",
       "80725             1\n",
       "8935              1\n",
       "6344B16           1\n",
       "27465B            1\n",
       "80362             1\n",
       "027               1\n",
       "80713**           1\n",
       "047               1\n",
       "576               1\n",
       "1564230           1\n",
       "8813B#            1\n",
       "039               1\n",
       "21113C            1\n",
       "22513             1\n",
       "1564340           1\n",
       "225001D           1\n",
       "8056W#            1\n",
       "8073C             1\n",
       "8704              1\n",
       "575               1\n",
       "8944C             1\n",
       "22526C            1\n",
       "8073B2F           1\n",
       "Name: Violation code, Length: 297, dtype: int64"
      ]
     },
     "execution_count": 40,
     "metadata": {},
     "output_type": "execute_result"
    }
   ],
   "source": [
    "df['Violation code'].value_counts()\n"
   ]
  },
  {
   "cell_type": "code",
   "execution_count": 41,
   "metadata": {},
   "outputs": [
    {
     "data": {
      "text/plain": [
       "['80.69BS',\n",
       " '88.13B+',\n",
       " '80.56E4+',\n",
       " '80.58L',\n",
       " '5204A-',\n",
       " '80.69B',\n",
       " '5200',\n",
       " '80.69C',\n",
       " '80.56E1',\n",
       " '80.69AP+',\n",
       " '80.69A+',\n",
       " '80.61',\n",
       " '4000A1',\n",
       " '8069BS',\n",
       " '22500H']"
      ]
     },
     "execution_count": 41,
     "metadata": {},
     "output_type": "execute_result"
    }
   ],
   "source": [
    "list_Code = df_temp['Violation code'].value_counts().index.tolist()\n",
    "list_Code = list_Code[:15]\n",
    "list_Code\n"
   ]
  },
  {
   "cell_type": "code",
   "execution_count": 42,
   "metadata": {},
   "outputs": [],
   "source": [
    "df['Code_new'] = df['Violation code'].apply(lambda x: x if x in list_Code else 'other' )\n"
   ]
  },
  {
   "cell_type": "code",
   "execution_count": 43,
   "metadata": {},
   "outputs": [
    {
     "data": {
      "text/plain": [
       "80.69BS     2439494\n",
       "88.13B+     1524589\n",
       "other       1319339\n",
       "80.56E4+     606361\n",
       "80.58L       599200\n",
       "5204A-       535798\n",
       "80.69B       370800\n",
       "80.69C       290968\n",
       "5200         239502\n",
       "80.56E1      188972\n",
       "80.69AP+     157259\n",
       "80.61        122059\n",
       "80.69A+       96424\n",
       "8069BS        90800\n",
       "4000A1        86887\n",
       "22500H        57562\n",
       "Name: Code_new, dtype: int64"
      ]
     },
     "execution_count": 43,
     "metadata": {},
     "output_type": "execute_result"
    }
   ],
   "source": [
    "df['Code_new'].value_counts()\n"
   ]
  },
  {
   "cell_type": "code",
   "execution_count": null,
   "metadata": {},
   "outputs": [],
   "source": []
  },
  {
   "cell_type": "markdown",
   "metadata": {},
   "source": [
    "# Latitude ---------------------"
   ]
  },
  {
   "cell_type": "code",
   "execution_count": 44,
   "metadata": {},
   "outputs": [
    {
     "data": {
      "text/plain": [
       "count    7.426600e+05\n",
       "mean     5.455163e+06\n",
       "std      2.315179e+06\n",
       "min      9.999900e+04\n",
       "25%      6.420784e+06\n",
       "50%      6.451249e+06\n",
       "75%      6.475984e+06\n",
       "max      6.650798e+06\n",
       "Name: Latitude, dtype: float64"
      ]
     },
     "execution_count": 44,
     "metadata": {},
     "output_type": "execute_result"
    }
   ],
   "source": [
    "df_temp['Latitude'].describe()\n",
    "\n",
    "# NB: only use the uncorrupted data to get the stats on 'Latitude'\n"
   ]
  },
  {
   "cell_type": "code",
   "execution_count": 45,
   "metadata": {},
   "outputs": [
    {
     "data": {
      "text/plain": [
       "3"
      ]
     },
     "execution_count": 45,
     "metadata": {},
     "output_type": "execute_result"
    }
   ],
   "source": [
    "# Only 1 missing values\n",
    "df['Latitude'].isna().sum()\n"
   ]
  },
  {
   "cell_type": "code",
   "execution_count": 46,
   "metadata": {},
   "outputs": [],
   "source": [
    "# Obtain stats \n",
    "x = df_temp['Latitude'].describe().to_dict()\n",
    "\n",
    "cut25_Lat = x['25%']\n",
    "cut50_Lat = x['50%']\n",
    "cut75_Lat = x['75%']\n",
    "#sd_Lat    = x['std']\n"
   ]
  },
  {
   "cell_type": "code",
   "execution_count": 47,
   "metadata": {},
   "outputs": [],
   "source": [
    "# do imputation.  Could also use KNN, for example\n",
    "df['Latitude'].fillna(cut50_Lat,inplace=True)\n"
   ]
  },
  {
   "cell_type": "code",
   "execution_count": 48,
   "metadata": {},
   "outputs": [],
   "source": [
    "# Too many values to plot/histogram\n",
    "#binsize = 0.3 * sd_Lat  #use a portion of the SD, to get finer resolution\n",
    "bin_Lat = 0.3 * np.abs(cut50_Lat - cut25_Lat)  #use a portion of the SD, to get finer resolution\n",
    "\n",
    "#int( (Latitude - mean_Lat)/bin_Lat )\n",
    "\n",
    "# Do this to keep it as a real number, but lose a lot of the finer detail.\n",
    "# Important: use cut50_Lat, and not mean_Lat\n",
    "df['Lat_new'] = df['Latitude'].apply(lambda x: (x - cut50_Lat)/bin_Lat )\n"
   ]
  },
  {
   "cell_type": "code",
   "execution_count": 49,
   "metadata": {},
   "outputs": [
    {
     "data": {
      "text/plain": [
       "count    8.726014e+06\n",
       "mean    -1.038990e+02\n",
       "std      3.286972e+02\n",
       "min     -6.949119e+02\n",
       "25%     -3.253663e+00\n",
       "50%      3.187132e-02\n",
       "75%      2.600042e+00\n",
       "max      4.415784e+05\n",
       "Name: Lat_new, dtype: float64"
      ]
     },
     "execution_count": 49,
     "metadata": {},
     "output_type": "execute_result"
    }
   ],
   "source": [
    "# Note the big spike of dummy values\n",
    "df['Lat_new'].describe()\n"
   ]
  },
  {
   "cell_type": "code",
   "execution_count": 50,
   "metadata": {},
   "outputs": [],
   "source": [
    "# now clean up high/low values (mostly low)\n",
    "min_Lat = -8\n",
    "max_Lat =  8\n",
    "df['Lat_new'] = df['Lat_new'].apply(lambda x: min_Lat if x < min_Lat else x)\n",
    "df['Lat_new'] = df['Lat_new'].apply(lambda x: max_Lat if x > max_Lat else x)\n"
   ]
  },
  {
   "cell_type": "code",
   "execution_count": 51,
   "metadata": {},
   "outputs": [
    {
     "data": {
      "text/plain": [
       "count    8.726014e+06\n",
       "mean    -7.969315e-01\n",
       "std      4.116880e+00\n",
       "min     -8.000000e+00\n",
       "25%     -3.253663e+00\n",
       "50%      3.187132e-02\n",
       "75%      2.600042e+00\n",
       "max      8.000000e+00\n",
       "Name: Lat_new, dtype: float64"
      ]
     },
     "execution_count": 51,
     "metadata": {},
     "output_type": "execute_result"
    }
   ],
   "source": [
    "df['Lat_new'].describe()"
   ]
  },
  {
   "cell_type": "code",
   "execution_count": 52,
   "metadata": {},
   "outputs": [
    {
     "data": {
      "text/plain": [
       "<matplotlib.axes._subplots.AxesSubplot at 0x1a539d8f28>"
      ]
     },
     "execution_count": 52,
     "metadata": {},
     "output_type": "execute_result"
    }
   ],
   "source": [
    "# Very little difference in distribution of Lat_new, as dependent on Y.  Probably a bad predictor.\n",
    "# Should see if the \"out of range\" values were distinctly 0 or 1, although doesn't appear to be the case.\n",
    "df_temp = mz.get_balanced_set(df)\n",
    "df_subset = df_temp.sample(n=10000)\n",
    "df_subset.boxplot( column='Lat_new', by='Y')\n",
    "#df_good.boxplot( column='Lat_new', by='Y')\n",
    "\n",
    "# Variance is smaller for Y=1 because there are more instances\n",
    "\n",
    "# TO DO: check for correlation on outlier sets\n"
   ]
  },
  {
   "cell_type": "markdown",
   "metadata": {},
   "source": [
    "# Longitude ---------------------"
   ]
  },
  {
   "cell_type": "code",
   "execution_count": 53,
   "metadata": {},
   "outputs": [
    {
     "data": {
      "text/plain": [
       "count    7.426600e+05\n",
       "mean     1.573487e+06\n",
       "std      6.359678e+05\n",
       "min      9.999900e+04\n",
       "25%      1.820029e+06\n",
       "50%      1.840853e+06\n",
       "75%      1.856696e+06\n",
       "max      2.078654e+06\n",
       "Name: Longitude, dtype: float64"
      ]
     },
     "execution_count": 53,
     "metadata": {},
     "output_type": "execute_result"
    }
   ],
   "source": [
    "df_temp['Longitude'].describe()\n"
   ]
  },
  {
   "cell_type": "code",
   "execution_count": null,
   "metadata": {},
   "outputs": [],
   "source": []
  },
  {
   "cell_type": "markdown",
   "metadata": {},
   "source": [
    "# Fine amount ---------------------------"
   ]
  },
  {
   "cell_type": "code",
   "execution_count": 54,
   "metadata": {},
   "outputs": [],
   "source": [
    "# Current slice where Make is uncorrupted\n",
    "df_good = df.loc[ ~df['Make'].isnull() ]\n"
   ]
  },
  {
   "cell_type": "code",
   "execution_count": 55,
   "metadata": {},
   "outputs": [
    {
     "data": {
      "text/plain": [
       "count    741684.000000\n",
       "mean         70.440210\n",
       "std          33.158882\n",
       "min          10.000000\n",
       "25%          63.000000\n",
       "50%          68.000000\n",
       "75%          73.000000\n",
       "max         363.000000\n",
       "Name: Fine amount, dtype: float64"
      ]
     },
     "execution_count": 55,
     "metadata": {},
     "output_type": "execute_result"
    }
   ],
   "source": [
    "x = df_temp['Fine amount'].describe()\n",
    "x"
   ]
  },
  {
   "cell_type": "code",
   "execution_count": 56,
   "metadata": {},
   "outputs": [],
   "source": [
    "cut25_Fine = x['25%']\n",
    "cut50_Fine = x['50%']\n",
    "cut75_Fine = x['75%']\n",
    "#sd_fine    = x['std']\n"
   ]
  },
  {
   "cell_type": "code",
   "execution_count": 57,
   "metadata": {},
   "outputs": [
    {
     "data": {
      "text/plain": [
       "6507"
      ]
     },
     "execution_count": 57,
     "metadata": {},
     "output_type": "execute_result"
    }
   ],
   "source": [
    "# Missing values\n",
    "df['Fine amount'].isnull().sum()\n"
   ]
  },
  {
   "cell_type": "code",
   "execution_count": 58,
   "metadata": {},
   "outputs": [
    {
     "data": {
      "text/plain": [
       "976"
      ]
     },
     "execution_count": 58,
     "metadata": {},
     "output_type": "execute_result"
    }
   ],
   "source": [
    "# Missing values\n",
    "df_temp['Fine amount'].isnull().sum()\n"
   ]
  },
  {
   "cell_type": "code",
   "execution_count": 59,
   "metadata": {},
   "outputs": [],
   "source": [
    "# do imputation.  Could also use KNN, for example\n",
    "df['Fine amount'].fillna(cut50_Fine,inplace=True)\n"
   ]
  },
  {
   "cell_type": "code",
   "execution_count": 60,
   "metadata": {},
   "outputs": [
    {
     "data": {
      "text/plain": [
       "<matplotlib.axes._subplots.AxesSubplot at 0x1a53b475c0>"
      ]
     },
     "execution_count": 60,
     "metadata": {},
     "output_type": "execute_result"
    },
    {
     "data": {
      "image/png": "[encoded data removed]",
      "text/plain": [
       "<Figure size 432x288 with 1 Axes>"
      ]
     },
     "metadata": {},
     "output_type": "display_data"
    }
   ],
   "source": [
    "df_temp = mz.get_balanced_set(df)\n",
    "df_subset = df_temp.sample(n=10000)\n",
    "df_subset.boxplot( column='Fine amount', by='Y')\n",
    "\n",
    "# too similar\n"
   ]
  },
  {
   "cell_type": "code",
   "execution_count": null,
   "metadata": {},
   "outputs": [],
   "source": []
  },
  {
   "cell_type": "markdown",
   "metadata": {},
   "source": [
    "# MODELING ====================================="
   ]
  },
  {
   "cell_type": "markdown",
   "metadata": {},
   "source": [
    "## Baseline prediction (over entire training set)"
   ]
  },
  {
   "cell_type": "code",
   "execution_count": 61,
   "metadata": {},
   "outputs": [
    {
     "name": "stdout",
     "output_type": "stream",
     "text": [
      "Percent in top-Ntop (training set) =  91.47845667192345\n"
     ]
    }
   ],
   "source": [
    "# How many of the entries correspond to a top-Ntop Make?\n",
    "\n",
    "# The *uncorrupted* rows with \n",
    "#df_ = df.loc[ ~df['Make'].isnull() & (df['Y']=='1') ]\n",
    "#num = df_.shape[0]\n",
    "num = df.loc[ ~df['Make'].isnull() & (df['Y']=='1') ].shape[0]\n",
    "\n",
    "# total number of *uncorrupted* rows\n",
    "#df_ = df.loc[ ~df['Make'].isnull() ]\n",
    "#den = df_.shape[0]\n",
    "den = df.loc[ ~df['Make'].isnull() ].shape[0]\n",
    "\n",
    "print(\"Percent in top-Ntop (training set) = \", (100.0 * num)/den )\n",
    "# NB: this means baseline prediction is 91% True that it's in top-Ntop\n"
   ]
  },
  {
   "cell_type": "markdown",
   "metadata": {},
   "source": [
    "## Train/Test split"
   ]
  },
  {
   "cell_type": "code",
   "execution_count": 62,
   "metadata": {},
   "outputs": [
    {
     "data": {
      "text/plain": [
       "(742660, 24)"
      ]
     },
     "execution_count": 62,
     "metadata": {},
     "output_type": "execute_result"
    }
   ],
   "source": [
    "# This set is balances 50/50 for Y=0 and Y=1\n",
    "df_model = mz.get_balanced_set(df)\n",
    "df_model.shape\n"
   ]
  },
  {
   "cell_type": "code",
   "execution_count": 63,
   "metadata": {},
   "outputs": [
    {
     "data": {
      "text/plain": [
       "(594128, 24)"
      ]
     },
     "execution_count": 63,
     "metadata": {},
     "output_type": "execute_result"
    }
   ],
   "source": [
    "# 80% for training set\n",
    "df_model_train = df_model.sample(frac=0.8, random_state=1235)\n",
    "df_model_train.shape\n"
   ]
  },
  {
   "cell_type": "code",
   "execution_count": 64,
   "metadata": {},
   "outputs": [
    {
     "data": {
      "text/plain": [
       "(148532, 24)"
      ]
     },
     "execution_count": 64,
     "metadata": {},
     "output_type": "execute_result"
    }
   ],
   "source": [
    "# 20% for testing\n",
    "df_model_test = df_model.drop( df_model_train.index )\n",
    "df_model_test.shape\n"
   ]
  },
  {
   "cell_type": "markdown",
   "metadata": {},
   "source": [
    "# Modeling Phase"
   ]
  },
  {
   "cell_type": "markdown",
   "metadata": {},
   "source": [
    "## Correlation of predictors with target (Y) ... this is just a preview"
   ]
  },
  {
   "cell_type": "markdown",
   "metadata": {},
   "source": [
    "### Agency"
   ]
  },
  {
   "cell_type": "code",
   "execution_count": 65,
   "metadata": {},
   "outputs": [
    {
     "name": "stdout",
     "output_type": "stream",
     "text": [
      "Y               0      1\n",
      "Agency_new              \n",
      "1           11027   6008\n",
      "2            3248   1588\n",
      "3             920     86\n",
      "4             799    917\n",
      "51          65461  66649\n",
      "53          46174  54197\n",
      "54          64426  73748\n",
      "55          28360  29846\n",
      "56          74293  62009\n",
      "57           1080   1232\n",
      "other        1169    891\n",
      "- - - - - - - - - - - - - - -\n",
      "Chi-squared statistic =  5221.423682183289\n",
      "p-value =  0.0\n",
      "No. dof =  10\n",
      "expected frequency (null hyp.) =  [[ 8514.43206683  8520.56793317]\n",
      " [ 2417.12905636  2418.87094364]\n",
      " [  502.81882355   503.18117645]\n",
      " [  857.69095548   858.30904452]\n",
      " [66031.2075344  66078.7924656 ]\n",
      " [50167.42359727 50203.57640273]\n",
      " [69062.11543304 69111.88456696]\n",
      " [29092.5173397  29113.4826603 ]\n",
      " [68126.45257251 68175.54742749]\n",
      " [ 1155.58361834  1156.41638166]\n",
      " [ 1029.6290025   1030.3709975 ]]\n",
      "- - - - - - - - - - - - - - -\n"
     ]
    }
   ],
   "source": [
    "mz.get_chi2_stat(df_model_train, 'Agency_new', 'Y')\n"
   ]
  },
  {
   "cell_type": "markdown",
   "metadata": {},
   "source": [
    "### Color"
   ]
  },
  {
   "cell_type": "code",
   "execution_count": 66,
   "metadata": {},
   "outputs": [
    {
     "name": "stdout",
     "output_type": "stream",
     "text": [
      "Y              0      1\n",
      "Color_new              \n",
      "BG          3424   1751\n",
      "BK         63290  64021\n",
      "BL         23131  23028\n",
      "BN         22312   4390\n",
      "GN         10597   8475\n",
      "GO          3921   3971\n",
      "GY         38218  59414\n",
      "MR          3490   3592\n",
      "OT          2114   1845\n",
      "RD         16766  14528\n",
      "SI          2488   1872\n",
      "SL         22408  38720\n",
      "TN          2571   2180\n",
      "WH          6368   3082\n",
      "WT         65475  61192\n",
      "other      10384   5110\n",
      "- - - - - - - - - - - - - - -\n",
      "Chi-squared statistic =  25146.81106555537\n",
      "p-value =  0.0\n",
      "No. dof =  15\n",
      "expected frequency (null hyp.) =  [[ 2586.56800386  2588.43199614]\n",
      " [63632.57181449 63678.42818551]\n",
      " [23071.18695466 23087.81304534]\n",
      " [13346.19108004 13355.80891996]\n",
      " [ 9532.56521154  9539.43478846]\n",
      " [ 3944.57868338  3947.42131662]\n",
      " [48798.41687986 48833.58312014]\n",
      " [ 3539.72456104  3542.27543896]\n",
      " [ 1978.78700044  1980.21299956]\n",
      " [15641.36407979 15652.63592021]\n",
      " [ 2179.214782    2180.785218  ]\n",
      " [30552.99109956 30575.00890044]\n",
      " [ 2374.64436451  2376.35563549]\n",
      " [ 4723.29809401  4726.70190599]\n",
      " [63310.68779623 63356.31220377]\n",
      " [ 7744.20959457  7749.79040543]]\n",
      "- - - - - - - - - - - - - - -\n"
     ]
    }
   ],
   "source": [
    "mz.get_chi2_stat(df_model_train, 'Color_new', 'Y')\n"
   ]
  },
  {
   "cell_type": "markdown",
   "metadata": {},
   "source": [
    "### Violation code"
   ]
  },
  {
   "cell_type": "code",
   "execution_count": 67,
   "metadata": {},
   "outputs": [
    {
     "name": "stdout",
     "output_type": "stream",
     "text": [
      "Y             0      1\n",
      "Code_new              \n",
      "22500H     4800   1658\n",
      "4000A1     5207   2753\n",
      "5200      12578   7658\n",
      "5204A-    17484  18227\n",
      "80.56E1    5619   6471\n",
      "80.56E4+  29800  19977\n",
      "80.58L    15506  20709\n",
      "80.61      3813   4254\n",
      "80.69A+    4771   3145\n",
      "80.69AP+   5989   5399\n",
      "80.69B    12350  12611\n",
      "80.69BS   62581  85037\n",
      "80.69C     7216  10150\n",
      "8069BS     4401   2908\n",
      "88.13B+   48402  52459\n",
      "other     56440  43755\n",
      "- - - - - - - - - - - - - - -\n",
      "Chi-squared statistic =  12620.113868649192\n",
      "p-value =  0.0\n",
      "No. dof =  15\n",
      "expected frequency (null hyp.) =  [[ 3227.83694086  3230.16305914]\n",
      " [ 3978.56643686  3981.43356314]\n",
      " [10114.35557994 10121.64442006]\n",
      " [17849.06859633 17861.93140367]\n",
      " [ 6042.82264091  6047.17735909]\n",
      " [24879.5353678  24897.4646322 ]\n",
      " [18100.97782801 18114.02217199]\n",
      " [ 4032.0471666   4034.9528334 ]\n",
      " [ 3956.57436108  3959.42563892]\n",
      " [ 5691.94906821  5696.05093179]\n",
      " [12476.00462695 12484.99537305]\n",
      " [73782.41460763 73835.58539237]\n",
      " [ 8679.87245509  8686.12754491]\n",
      " [ 3653.18367927  3655.81632073]\n",
      " [50412.33535029 50448.66464971]\n",
      " [50079.45529415 50115.54470585]]\n",
      "- - - - - - - - - - - - - - -\n"
     ]
    }
   ],
   "source": [
    "mz.get_chi2_stat(df_model_train, 'Code_new', 'Y')\n"
   ]
  },
  {
   "cell_type": "code",
   "execution_count": null,
   "metadata": {},
   "outputs": [],
   "source": []
  },
  {
   "cell_type": "markdown",
   "metadata": {},
   "source": [
    "## Classifier (random forest)"
   ]
  },
  {
   "cell_type": "code",
   "execution_count": 68,
   "metadata": {},
   "outputs": [],
   "source": [
    "# Predictors & response\n",
    "X_train = ['Agency_new', 'Color_new', 'Code_new']\n",
    "Y_train = ['Y']\n"
   ]
  },
  {
   "cell_type": "code",
   "execution_count": 69,
   "metadata": {},
   "outputs": [],
   "source": [
    "# Predictors and response\n",
    "dfX = pd.get_dummies(df_model_train[X_train])\n",
    "dfY = df_model_train[Y_train].values.ravel()\n"
   ]
  },
  {
   "cell_type": "code",
   "execution_count": 70,
   "metadata": {
    "scrolled": true
   },
   "outputs": [
    {
     "data": {
      "text/plain": [
       "['Agency_new_1',\n",
       " 'Agency_new_2',\n",
       " 'Agency_new_3',\n",
       " 'Agency_new_4',\n",
       " 'Agency_new_51',\n",
       " 'Agency_new_53',\n",
       " 'Agency_new_54',\n",
       " 'Agency_new_55',\n",
       " 'Agency_new_56',\n",
       " 'Agency_new_57',\n",
       " 'Agency_new_other',\n",
       " 'Color_new_BG',\n",
       " 'Color_new_BK',\n",
       " 'Color_new_BL',\n",
       " 'Color_new_BN',\n",
       " 'Color_new_GN',\n",
       " 'Color_new_GO',\n",
       " 'Color_new_GY',\n",
       " 'Color_new_MR',\n",
       " 'Color_new_OT',\n",
       " 'Color_new_RD',\n",
       " 'Color_new_SI',\n",
       " 'Color_new_SL',\n",
       " 'Color_new_TN',\n",
       " 'Color_new_WH',\n",
       " 'Color_new_WT',\n",
       " 'Color_new_other',\n",
       " 'Code_new_22500H',\n",
       " 'Code_new_4000A1',\n",
       " 'Code_new_5200',\n",
       " 'Code_new_5204A-',\n",
       " 'Code_new_80.56E1',\n",
       " 'Code_new_80.56E4+',\n",
       " 'Code_new_80.58L',\n",
       " 'Code_new_80.61',\n",
       " 'Code_new_80.69A+',\n",
       " 'Code_new_80.69AP+',\n",
       " 'Code_new_80.69B',\n",
       " 'Code_new_80.69BS',\n",
       " 'Code_new_80.69C',\n",
       " 'Code_new_8069BS',\n",
       " 'Code_new_88.13B+',\n",
       " 'Code_new_other']"
      ]
     },
     "execution_count": 70,
     "metadata": {},
     "output_type": "execute_result"
    }
   ],
   "source": [
    "#dfX.head()\n",
    "columnsX = dfX.columns.tolist()\n",
    "columnsX\n"
   ]
  },
  {
   "cell_type": "code",
   "execution_count": 71,
   "metadata": {},
   "outputs": [
    {
     "name": "stdout",
     "output_type": "stream",
     "text": [
      "building tree 1 of 100\n"
     ]
    },
    {
     "name": "stderr",
     "output_type": "stream",
     "text": [
      "[Parallel(n_jobs=1)]: Done   1 out of   1 | elapsed:    0.7s remaining:    0.0s\n"
     ]
    },
    {
     "name": "stdout",
     "output_type": "stream",
     "text": [
      "building tree 2 of 100\n",
      "building tree 3 of 100\n",
      "building tree 4 of 100\n",
      "building tree 5 of 100\n",
      "building tree 6 of 100\n",
      "building tree 7 of 100\n",
      "building tree 8 of 100\n",
      "building tree 9 of 100\n",
      "building tree 10 of 100\n",
      "building tree 11 of 100\n",
      "building tree 12 of 100\n",
      "building tree 13 of 100\n",
      "building tree 14 of 100\n",
      "building tree 15 of 100\n",
      "building tree 16 of 100\n",
      "building tree 17 of 100\n",
      "building tree 18 of 100\n",
      "building tree 19 of 100\n",
      "building tree 20 of 100\n",
      "building tree 21 of 100\n",
      "building tree 22 of 100\n",
      "building tree 23 of 100\n",
      "building tree 24 of 100\n",
      "building tree 25 of 100\n",
      "building tree 26 of 100\n",
      "building tree 27 of 100\n",
      "building tree 28 of 100\n",
      "building tree 29 of 100\n",
      "building tree 30 of 100\n",
      "building tree 31 of 100\n",
      "building tree 32 of 100\n",
      "building tree 33 of 100\n",
      "building tree 34 of 100\n",
      "building tree 35 of 100\n",
      "building tree 36 of 100\n",
      "building tree 37 of 100\n",
      "building tree 38 of 100\n",
      "building tree 39 of 100\n",
      "building tree 40 of 100\n",
      "building tree 41 of 100\n",
      "building tree 42 of 100\n",
      "building tree 43 of 100\n",
      "building tree 44 of 100\n",
      "building tree 45 of 100\n",
      "building tree 46 of 100\n",
      "building tree 47 of 100\n",
      "building tree 48 of 100\n",
      "building tree 49 of 100\n",
      "building tree 50 of 100\n",
      "building tree 51 of 100\n",
      "building tree 52 of 100\n",
      "building tree 53 of 100\n",
      "building tree 54 of 100\n",
      "building tree 55 of 100\n",
      "building tree 56 of 100\n",
      "building tree 57 of 100\n",
      "building tree 58 of 100\n",
      "building tree 59 of 100\n",
      "building tree 60 of 100\n",
      "building tree 61 of 100\n",
      "building tree 62 of 100\n",
      "building tree 63 of 100\n",
      "building tree 64 of 100\n",
      "building tree 65 of 100\n",
      "building tree 66 of 100\n",
      "building tree 67 of 100\n",
      "building tree 68 of 100\n",
      "building tree 69 of 100\n",
      "building tree 70 of 100\n",
      "building tree 71 of 100\n",
      "building tree 72 of 100\n",
      "building tree 73 of 100\n",
      "building tree 74 of 100\n",
      "building tree 75 of 100\n",
      "building tree 76 of 100\n",
      "building tree 77 of 100\n",
      "building tree 78 of 100\n",
      "building tree 79 of 100\n",
      "building tree 80 of 100\n",
      "building tree 81 of 100\n",
      "building tree 82 of 100\n",
      "building tree 83 of 100\n",
      "building tree 84 of 100\n",
      "building tree 85 of 100\n",
      "building tree 86 of 100\n",
      "building tree 87 of 100\n",
      "building tree 88 of 100\n",
      "building tree 89 of 100\n",
      "building tree 90 of 100\n",
      "building tree 91 of 100\n",
      "building tree 92 of 100\n",
      "building tree 93 of 100\n",
      "building tree 94 of 100\n",
      "building tree 95 of 100\n",
      "building tree 96 of 100\n",
      "building tree 97 of 100\n",
      "building tree 98 of 100\n",
      "building tree 99 of 100\n",
      "building tree 100 of 100\n"
     ]
    },
    {
     "name": "stderr",
     "output_type": "stream",
     "text": [
      "[Parallel(n_jobs=1)]: Done 100 out of 100 | elapsed:  1.1min finished\n"
     ]
    },
    {
     "data": {
      "text/plain": [
       "RandomForestClassifier(bootstrap=True, class_weight=None, criterion='gini',\n",
       "            max_depth=None, max_features='auto', max_leaf_nodes=None,\n",
       "            min_impurity_decrease=0.0, min_impurity_split=None,\n",
       "            min_samples_leaf=1, min_samples_split=2,\n",
       "            min_weight_fraction_leaf=0.0, n_estimators=100, n_jobs=1,\n",
       "            oob_score=True, random_state=12345, verbose=2,\n",
       "            warm_start=False)"
      ]
     },
     "execution_count": 71,
     "metadata": {},
     "output_type": "execute_result"
    }
   ],
   "source": [
    "# Create RF model\n",
    "rf = RandomForestClassifier( n_estimators=100, oob_score=True, random_state=12345, verbose=2 )\n",
    "rf.fit( dfX, dfY )\n"
   ]
  },
  {
   "cell_type": "code",
   "execution_count": 72,
   "metadata": {},
   "outputs": [
    {
     "data": {
      "text/plain": [
       "0.6027808822341314"
      ]
     },
     "execution_count": 72,
     "metadata": {},
     "output_type": "execute_result"
    }
   ],
   "source": [
    "# The OOB score gives a quick estimate of test score\n",
    "rf.oob_score_\n"
   ]
  },
  {
   "cell_type": "markdown",
   "metadata": {},
   "source": [
    "### Compare to test set"
   ]
  },
  {
   "cell_type": "code",
   "execution_count": 73,
   "metadata": {},
   "outputs": [
    {
     "name": "stderr",
     "output_type": "stream",
     "text": [
      "[Parallel(n_jobs=1)]: Done   1 out of   1 | elapsed:    0.0s remaining:    0.0s\n",
      "[Parallel(n_jobs=1)]: Done 100 out of 100 | elapsed:    1.7s finished\n"
     ]
    }
   ],
   "source": [
    "X_train = ['Agency_new', 'Color_new', 'Code_new']\n",
    "df_TEST = pd.get_dummies(df_model_test[X_train])\n",
    "df_TEST_Y = df_model_test[ ['Y'] ]\n",
    "\n",
    "# predicted values for Y\n",
    "predicted_TEST = rf.predict( df_TEST )\n"
   ]
  },
  {
   "cell_type": "code",
   "execution_count": 74,
   "metadata": {},
   "outputs": [
    {
     "data": {
      "text/plain": [
       "array(['0', '0', '0', ..., '1', '1', '1'], dtype=object)"
      ]
     },
     "execution_count": 74,
     "metadata": {},
     "output_type": "execute_result"
    }
   ],
   "source": [
    "# predicted values for Y\n",
    "predicted_TEST"
   ]
  },
  {
   "cell_type": "code",
   "execution_count": 75,
   "metadata": {},
   "outputs": [
    {
     "data": {
      "text/plain": [
       "array(['0', '0', '0', ..., '1', '1', '1'], dtype=object)"
      ]
     },
     "execution_count": 75,
     "metadata": {},
     "output_type": "execute_result"
    }
   ],
   "source": [
    "# known values for Y\n",
    "df_TEST_Y['Y'].values"
   ]
  },
  {
   "cell_type": "code",
   "execution_count": 76,
   "metadata": {},
   "outputs": [
    {
     "data": {
      "text/plain": [
       "0.6040718498370722"
      ]
     },
     "execution_count": 76,
     "metadata": {},
     "output_type": "execute_result"
    }
   ],
   "source": [
    "# Fraction correctly predicted based on TEST set\n",
    "(predicted_TEST == df_TEST_Y['Y'].values).sum() / (len(predicted_TEST)*1.0)"
   ]
  },
  {
   "cell_type": "code",
   "execution_count": 77,
   "metadata": {},
   "outputs": [],
   "source": [
    "# very close to prediction from OOB"
   ]
  },
  {
   "cell_type": "code",
   "execution_count": null,
   "metadata": {},
   "outputs": [],
   "source": []
  },
  {
   "cell_type": "markdown",
   "metadata": {},
   "source": [
    "## Individual predictions (expected usage of model) ---------------------"
   ]
  },
  {
   "cell_type": "markdown",
   "metadata": {},
   "source": [
    "### Examples where Y=0"
   ]
  },
  {
   "cell_type": "code",
   "execution_count": 78,
   "metadata": {},
   "outputs": [
    {
     "data": {
      "text/html": [
       "<div>\n",
       "<style scoped>\n",
       "    .dataframe tbody tr th:only-of-type {\n",
       "        vertical-align: middle;\n",
       "    }\n",
       "\n",
       "    .dataframe tbody tr th {\n",
       "        vertical-align: top;\n",
       "    }\n",
       "\n",
       "    .dataframe thead th {\n",
       "        text-align: right;\n",
       "    }\n",
       "</style>\n",
       "<table border=\"1\" class=\"dataframe\">\n",
       "  <thead>\n",
       "    <tr style=\"text-align: right;\">\n",
       "      <th></th>\n",
       "      <th>Make</th>\n",
       "      <th>Agency</th>\n",
       "      <th>Color</th>\n",
       "      <th>Violation code</th>\n",
       "      <th>Agency_new</th>\n",
       "      <th>Color_new</th>\n",
       "      <th>Code_new</th>\n",
       "    </tr>\n",
       "  </thead>\n",
       "  <tbody>\n",
       "    <tr>\n",
       "      <th>1369930</th>\n",
       "      <td>SAA</td>\n",
       "      <td>53</td>\n",
       "      <td>BK</td>\n",
       "      <td>80.69BS</td>\n",
       "      <td>53</td>\n",
       "      <td>BK</td>\n",
       "      <td>80.69BS</td>\n",
       "    </tr>\n",
       "    <tr>\n",
       "      <th>7426196</th>\n",
       "      <td>FIAT</td>\n",
       "      <td>51</td>\n",
       "      <td>WT</td>\n",
       "      <td>88.13B+</td>\n",
       "      <td>51</td>\n",
       "      <td>WT</td>\n",
       "      <td>88.13B+</td>\n",
       "    </tr>\n",
       "    <tr>\n",
       "      <th>7576149</th>\n",
       "      <td>MERC</td>\n",
       "      <td>56</td>\n",
       "      <td>WT</td>\n",
       "      <td>88.13B+</td>\n",
       "      <td>56</td>\n",
       "      <td>WT</td>\n",
       "      <td>88.13B+</td>\n",
       "    </tr>\n",
       "    <tr>\n",
       "      <th>5302661</th>\n",
       "      <td>UNK</td>\n",
       "      <td>51</td>\n",
       "      <td>RD</td>\n",
       "      <td>80.69B</td>\n",
       "      <td>51</td>\n",
       "      <td>RD</td>\n",
       "      <td>80.69B</td>\n",
       "    </tr>\n",
       "    <tr>\n",
       "      <th>2148518</th>\n",
       "      <td>KW</td>\n",
       "      <td>55</td>\n",
       "      <td>BL</td>\n",
       "      <td>80.69AP+</td>\n",
       "      <td>55</td>\n",
       "      <td>BL</td>\n",
       "      <td>80.69AP+</td>\n",
       "    </tr>\n",
       "    <tr>\n",
       "      <th>5738729</th>\n",
       "      <td>PONT</td>\n",
       "      <td>55</td>\n",
       "      <td>GO</td>\n",
       "      <td>80.56E1</td>\n",
       "      <td>55</td>\n",
       "      <td>GO</td>\n",
       "      <td>80.56E1</td>\n",
       "    </tr>\n",
       "    <tr>\n",
       "      <th>1935258</th>\n",
       "      <td>UNK</td>\n",
       "      <td>51</td>\n",
       "      <td>WT</td>\n",
       "      <td>80.69B</td>\n",
       "      <td>51</td>\n",
       "      <td>WT</td>\n",
       "      <td>80.69B</td>\n",
       "    </tr>\n",
       "    <tr>\n",
       "      <th>2849606</th>\n",
       "      <td>PONT</td>\n",
       "      <td>54</td>\n",
       "      <td>BL</td>\n",
       "      <td>80.70</td>\n",
       "      <td>54</td>\n",
       "      <td>BL</td>\n",
       "      <td>other</td>\n",
       "    </tr>\n",
       "    <tr>\n",
       "      <th>7300182</th>\n",
       "      <td>LNDR</td>\n",
       "      <td>55</td>\n",
       "      <td>WT</td>\n",
       "      <td>88.13B+</td>\n",
       "      <td>55</td>\n",
       "      <td>WT</td>\n",
       "      <td>88.13B+</td>\n",
       "    </tr>\n",
       "    <tr>\n",
       "      <th>5075162</th>\n",
       "      <td>BUIC</td>\n",
       "      <td>55</td>\n",
       "      <td>WT</td>\n",
       "      <td>80.69BS</td>\n",
       "      <td>55</td>\n",
       "      <td>WT</td>\n",
       "      <td>80.69BS</td>\n",
       "    </tr>\n",
       "  </tbody>\n",
       "</table>\n",
       "</div>"
      ],
      "text/plain": [
       "         Make Agency Color Violation code Agency_new Color_new  Code_new\n",
       "1369930   SAA     53    BK        80.69BS         53        BK   80.69BS\n",
       "7426196  FIAT     51    WT        88.13B+         51        WT   88.13B+\n",
       "7576149  MERC     56    WT        88.13B+         56        WT   88.13B+\n",
       "5302661   UNK     51    RD         80.69B         51        RD    80.69B\n",
       "2148518    KW     55    BL       80.69AP+         55        BL  80.69AP+\n",
       "5738729  PONT     55    GO        80.56E1         55        GO   80.56E1\n",
       "1935258   UNK     51    WT         80.69B         51        WT    80.69B\n",
       "2849606  PONT     54    BL          80.70         54        BL     other\n",
       "7300182  LNDR     55    WT        88.13B+         55        WT   88.13B+\n",
       "5075162  BUIC     55    WT        80.69BS         55        WT   80.69BS"
      ]
     },
     "execution_count": 78,
     "metadata": {},
     "output_type": "execute_result"
    }
   ],
   "source": [
    "df_ = df.loc[ ~df['Make'].isnull() & (df['Y']=='0')].sample(10)\n",
    "df_[['Make','Agency','Color','Violation code', 'Agency_new','Color_new','Code_new']].head(20)\n"
   ]
  },
  {
   "cell_type": "markdown",
   "metadata": {},
   "source": [
    "### Examples where Y=1"
   ]
  },
  {
   "cell_type": "code",
   "execution_count": 79,
   "metadata": {},
   "outputs": [
    {
     "data": {
      "text/html": [
       "<div>\n",
       "<style scoped>\n",
       "    .dataframe tbody tr th:only-of-type {\n",
       "        vertical-align: middle;\n",
       "    }\n",
       "\n",
       "    .dataframe tbody tr th {\n",
       "        vertical-align: top;\n",
       "    }\n",
       "\n",
       "    .dataframe thead th {\n",
       "        text-align: right;\n",
       "    }\n",
       "</style>\n",
       "<table border=\"1\" class=\"dataframe\">\n",
       "  <thead>\n",
       "    <tr style=\"text-align: right;\">\n",
       "      <th></th>\n",
       "      <th>Make</th>\n",
       "      <th>Agency</th>\n",
       "      <th>Color</th>\n",
       "      <th>Violation code</th>\n",
       "      <th>Agency_new</th>\n",
       "      <th>Color_new</th>\n",
       "      <th>Code_new</th>\n",
       "    </tr>\n",
       "  </thead>\n",
       "  <tbody>\n",
       "    <tr>\n",
       "      <th>4955991</th>\n",
       "      <td>HYUN</td>\n",
       "      <td>53</td>\n",
       "      <td>BK</td>\n",
       "      <td>80.69C</td>\n",
       "      <td>53</td>\n",
       "      <td>BK</td>\n",
       "      <td>80.69C</td>\n",
       "    </tr>\n",
       "    <tr>\n",
       "      <th>1092223</th>\n",
       "      <td>VOLK</td>\n",
       "      <td>51</td>\n",
       "      <td>BK</td>\n",
       "      <td>88.13B+</td>\n",
       "      <td>51</td>\n",
       "      <td>BK</td>\n",
       "      <td>88.13B+</td>\n",
       "    </tr>\n",
       "    <tr>\n",
       "      <th>4174476</th>\n",
       "      <td>FORD</td>\n",
       "      <td>55</td>\n",
       "      <td>WT</td>\n",
       "      <td>80.69BS</td>\n",
       "      <td>55</td>\n",
       "      <td>WT</td>\n",
       "      <td>80.69BS</td>\n",
       "    </tr>\n",
       "    <tr>\n",
       "      <th>1149461</th>\n",
       "      <td>HOND</td>\n",
       "      <td>56</td>\n",
       "      <td>SL</td>\n",
       "      <td>80.69BS</td>\n",
       "      <td>56</td>\n",
       "      <td>SL</td>\n",
       "      <td>80.69BS</td>\n",
       "    </tr>\n",
       "    <tr>\n",
       "      <th>3320512</th>\n",
       "      <td>NISS</td>\n",
       "      <td>56</td>\n",
       "      <td>BL</td>\n",
       "      <td>88.13B+</td>\n",
       "      <td>56</td>\n",
       "      <td>BL</td>\n",
       "      <td>88.13B+</td>\n",
       "    </tr>\n",
       "    <tr>\n",
       "      <th>1901116</th>\n",
       "      <td>FORD</td>\n",
       "      <td>56</td>\n",
       "      <td>BK</td>\n",
       "      <td>80.69BS</td>\n",
       "      <td>56</td>\n",
       "      <td>BK</td>\n",
       "      <td>80.69BS</td>\n",
       "    </tr>\n",
       "    <tr>\n",
       "      <th>2808333</th>\n",
       "      <td>MAZD</td>\n",
       "      <td>53</td>\n",
       "      <td>RD</td>\n",
       "      <td>80.69BS</td>\n",
       "      <td>53</td>\n",
       "      <td>RD</td>\n",
       "      <td>80.69BS</td>\n",
       "    </tr>\n",
       "    <tr>\n",
       "      <th>8666979</th>\n",
       "      <td>KIA</td>\n",
       "      <td>55</td>\n",
       "      <td>GY</td>\n",
       "      <td>80.70</td>\n",
       "      <td>55</td>\n",
       "      <td>GY</td>\n",
       "      <td>other</td>\n",
       "    </tr>\n",
       "    <tr>\n",
       "      <th>8152432</th>\n",
       "      <td>FORD</td>\n",
       "      <td>54</td>\n",
       "      <td>BL</td>\n",
       "      <td>80.69BS</td>\n",
       "      <td>54</td>\n",
       "      <td>BL</td>\n",
       "      <td>80.69BS</td>\n",
       "    </tr>\n",
       "    <tr>\n",
       "      <th>5544269</th>\n",
       "      <td>MERZ</td>\n",
       "      <td>51</td>\n",
       "      <td>WT</td>\n",
       "      <td>80.58L</td>\n",
       "      <td>51</td>\n",
       "      <td>WT</td>\n",
       "      <td>80.58L</td>\n",
       "    </tr>\n",
       "  </tbody>\n",
       "</table>\n",
       "</div>"
      ],
      "text/plain": [
       "         Make Agency Color Violation code Agency_new Color_new Code_new\n",
       "4955991  HYUN     53    BK         80.69C         53        BK   80.69C\n",
       "1092223  VOLK     51    BK        88.13B+         51        BK  88.13B+\n",
       "4174476  FORD     55    WT        80.69BS         55        WT  80.69BS\n",
       "1149461  HOND     56    SL        80.69BS         56        SL  80.69BS\n",
       "3320512  NISS     56    BL        88.13B+         56        BL  88.13B+\n",
       "1901116  FORD     56    BK        80.69BS         56        BK  80.69BS\n",
       "2808333  MAZD     53    RD        80.69BS         53        RD  80.69BS\n",
       "8666979   KIA     55    GY          80.70         55        GY    other\n",
       "8152432  FORD     54    BL        80.69BS         54        BL  80.69BS\n",
       "5544269  MERZ     51    WT         80.58L         51        WT   80.58L"
      ]
     },
     "execution_count": 79,
     "metadata": {},
     "output_type": "execute_result"
    }
   ],
   "source": [
    "df_ = df.loc[ ~df['Make'].isnull() & (df['Y']=='1')].sample(10)\n",
    "df_[['Make','Agency','Color','Violation code', 'Agency_new','Color_new','Code_new']].head(20)\n"
   ]
  },
  {
   "cell_type": "markdown",
   "metadata": {},
   "source": [
    "### Examples"
   ]
  },
  {
   "cell_type": "code",
   "execution_count": 80,
   "metadata": {},
   "outputs": [
    {
     "name": "stdout",
     "output_type": "stream",
     "text": [
      "\n",
      "\n",
      "Prediction: IN top-25 Makes\n",
      "\n",
      "\n"
     ]
    },
    {
     "name": "stderr",
     "output_type": "stream",
     "text": [
      "[Parallel(n_jobs=1)]: Done   1 out of   1 | elapsed:    0.0s remaining:    0.0s\n",
      "[Parallel(n_jobs=1)]: Done 100 out of 100 | elapsed:    0.0s finished\n"
     ]
    }
   ],
   "source": [
    "# More likely to be: Y=1\n",
    "\n",
    "# Here force everything to be a string, since that is the assumption for the input\n",
    "agency = \"54.0\"\n",
    "color = \"GY\"\n",
    "code = \"88.13B+\"\n",
    "\n",
    "df_live = mz.get_test_frame(agency, color, code, list_Agency, list_Color, list_Code, columnsX)\n",
    "predicted = rf.predict( df_live )\n",
    "mz.print_prediction( predicted[0], Ntop )\n"
   ]
  },
  {
   "cell_type": "code",
   "execution_count": 81,
   "metadata": {},
   "outputs": [
    {
     "name": "stdout",
     "output_type": "stream",
     "text": [
      "\n",
      "\n",
      "Prediction: NOT in top-25 Makes\n",
      "\n",
      "\n"
     ]
    },
    {
     "name": "stderr",
     "output_type": "stream",
     "text": [
      "[Parallel(n_jobs=1)]: Done   1 out of   1 | elapsed:    0.0s remaining:    0.0s\n",
      "[Parallel(n_jobs=1)]: Done 100 out of 100 | elapsed:    0.0s finished\n"
     ]
    }
   ],
   "source": [
    "# More likely to be: Y=0\n",
    "\n",
    "# Here force everything to be a string, since that is the assumption for the input\n",
    "agency = \"56.0\"\n",
    "color = \"WT\"\n",
    "code = \"other\"\n",
    "\n",
    "df_live = mz.get_test_frame(agency, color, code, list_Agency, list_Color, list_Code, columnsX)\n",
    "predicted = rf.predict( df_live )\n",
    "mz.print_prediction( predicted[0], Ntop )"
   ]
  },
  {
   "cell_type": "code",
   "execution_count": null,
   "metadata": {},
   "outputs": [],
   "source": []
  },
  {
   "cell_type": "code",
   "execution_count": null,
   "metadata": {},
   "outputs": [],
   "source": []
  },
  {
   "cell_type": "code",
   "execution_count": null,
   "metadata": {},
   "outputs": [],
   "source": []
  },
  {
   "cell_type": "code",
   "execution_count": null,
   "metadata": {},
   "outputs": [],
   "source": []
  }
 ],
 "metadata": {
  "kernelspec": {
   "display_name": "Python 3",
   "language": "python",
   "name": "python3"
  },
  "language_info": {
   "codemirror_mode": {
    "name": "ipython",
    "version": 3
   },
   "file_extension": ".py",
   "mimetype": "text/x-python",
   "name": "python",
   "nbconvert_exporter": "python",
   "pygments_lexer": "ipython3",
   "version": "3.6.5"
  }
 },
 "nbformat": 4,
 "nbformat_minor": 5
}
